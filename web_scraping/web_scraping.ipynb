{
 "cells": [
  {
   "cell_type": "code",
   "execution_count": 2,
   "metadata": {},
   "outputs": [],
   "source": [
    "import pandas as pd\n",
    "import numpy as np"
   ]
  },
  {
   "cell_type": "markdown",
   "metadata": {},
   "source": [
    "## Loading of scraped data into dataframes"
   ]
  },
  {
   "cell_type": "code",
   "execution_count": 4,
   "metadata": {},
   "outputs": [],
   "source": [
    "tripadvisor_scraped_df = pd.read_csv('singapore_airlines_reviews_tripadvisor.csv')\n",
    "skytrax_scraped_df = pd.read_csv('singapore_airlines_reviews_skytrax.csv')\n"
   ]
  },
  {
   "cell_type": "code",
   "execution_count": 10,
   "metadata": {},
   "outputs": [
    {
     "data": {
      "text/html": [
       "<div>\n",
       "<style scoped>\n",
       "    .dataframe tbody tr th:only-of-type {\n",
       "        vertical-align: middle;\n",
       "    }\n",
       "\n",
       "    .dataframe tbody tr th {\n",
       "        vertical-align: top;\n",
       "    }\n",
       "\n",
       "    .dataframe thead th {\n",
       "        text-align: right;\n",
       "    }\n",
       "</style>\n",
       "<table border=\"1\" class=\"dataframe\">\n",
       "  <thead>\n",
       "    <tr style=\"text-align: right;\">\n",
       "      <th></th>\n",
       "      <th>Year</th>\n",
       "      <th>Month</th>\n",
       "      <th>Title</th>\n",
       "      <th>Review Text</th>\n",
       "      <th>Rating</th>\n",
       "    </tr>\n",
       "  </thead>\n",
       "  <tbody>\n",
       "    <tr>\n",
       "      <th>0</th>\n",
       "      <td>2024</td>\n",
       "      <td>May</td>\n",
       "      <td>I would give them zero stars!</td>\n",
       "      <td>I’d give zero stars if I could. I always see o...</td>\n",
       "      <td>1.0</td>\n",
       "    </tr>\n",
       "    <tr>\n",
       "      <th>1</th>\n",
       "      <td>2024</td>\n",
       "      <td>September</td>\n",
       "      <td>Very Poor service/responce</td>\n",
       "      <td>Zero stars. Very disappointed with Singapore a...</td>\n",
       "      <td>1.0</td>\n",
       "    </tr>\n",
       "    <tr>\n",
       "      <th>2</th>\n",
       "      <td>2024</td>\n",
       "      <td>October</td>\n",
       "      <td>Business Class of Singpore Airlines 2024</td>\n",
       "      <td>Amazing, best service ever. Food is amazing, e...</td>\n",
       "      <td>5.0</td>\n",
       "    </tr>\n",
       "    <tr>\n",
       "      <th>3</th>\n",
       "      <td>2024</td>\n",
       "      <td>October</td>\n",
       "      <td>10/10 for how they handled our delayed flight</td>\n",
       "      <td>We had a 4.5 hour delay on our flight from Lon...</td>\n",
       "      <td>5.0</td>\n",
       "    </tr>\n",
       "    <tr>\n",
       "      <th>4</th>\n",
       "      <td>2024</td>\n",
       "      <td>October</td>\n",
       "      <td>Premium Economy</td>\n",
       "      <td>The leg room was great but the food was terrib...</td>\n",
       "      <td>3.0</td>\n",
       "    </tr>\n",
       "  </tbody>\n",
       "</table>\n",
       "</div>"
      ],
      "text/plain": [
       "   Year      Month                                          Title  \\\n",
       "0  2024        May                  I would give them zero stars!   \n",
       "1  2024  September                     Very Poor service/responce   \n",
       "2  2024    October       Business Class of Singpore Airlines 2024   \n",
       "3  2024    October  10/10 for how they handled our delayed flight   \n",
       "4  2024    October                                Premium Economy   \n",
       "\n",
       "                                         Review Text  Rating  \n",
       "0  I’d give zero stars if I could. I always see o...     1.0  \n",
       "1  Zero stars. Very disappointed with Singapore a...     1.0  \n",
       "2  Amazing, best service ever. Food is amazing, e...     5.0  \n",
       "3  We had a 4.5 hour delay on our flight from Lon...     5.0  \n",
       "4  The leg room was great but the food was terrib...     3.0  "
      ]
     },
     "execution_count": 10,
     "metadata": {},
     "output_type": "execute_result"
    }
   ],
   "source": [
    "tripadvisor_scraped_df.head()\n"
   ]
  },
  {
   "cell_type": "code",
   "execution_count": 9,
   "metadata": {},
   "outputs": [
    {
     "name": "stdout",
     "output_type": "stream",
     "text": [
      "<class 'pandas.core.frame.DataFrame'>\n",
      "RangeIndex: 1446 entries, 0 to 1445\n",
      "Data columns (total 5 columns):\n",
      " #   Column       Non-Null Count  Dtype  \n",
      "---  ------       --------------  -----  \n",
      " 0   Year         1446 non-null   int64  \n",
      " 1   Month        1446 non-null   object \n",
      " 2   Title        1446 non-null   object \n",
      " 3   Review Text  1446 non-null   object \n",
      " 4   Rating       1446 non-null   float64\n",
      "dtypes: float64(1), int64(1), object(3)\n",
      "memory usage: 56.6+ KB\n"
     ]
    }
   ],
   "source": [
    "tripadvisor_scraped_df.info()"
   ]
  },
  {
   "cell_type": "code",
   "execution_count": 13,
   "metadata": {},
   "outputs": [
    {
     "name": "stdout",
     "output_type": "stream",
     "text": [
      "<class 'pandas.core.frame.DataFrame'>\n",
      "RangeIndex: 1613 entries, 0 to 1612\n",
      "Data columns (total 5 columns):\n",
      " #   Column       Non-Null Count  Dtype \n",
      "---  ------       --------------  ----- \n",
      " 0   Year         1613 non-null   int64 \n",
      " 1   Month        1613 non-null   int64 \n",
      " 2   Title        1613 non-null   object\n",
      " 3   Review Text  1613 non-null   object\n",
      " 4   Rating       1613 non-null   int64 \n",
      "dtypes: int64(3), object(2)\n",
      "memory usage: 63.1+ KB\n"
     ]
    }
   ],
   "source": [
    "skytrax_scraped_df.info()"
   ]
  },
  {
   "cell_type": "markdown",
   "metadata": {},
   "source": [
    "### Combine the two dataframes"
   ]
  }
 ],
 "metadata": {
  "kernelspec": {
   "display_name": "Python 3",
   "language": "python",
   "name": "python3"
  },
  "language_info": {
   "codemirror_mode": {
    "name": "ipython",
    "version": 3
   },
   "file_extension": ".py",
   "mimetype": "text/x-python",
   "name": "python",
   "nbconvert_exporter": "python",
   "pygments_lexer": "ipython3",
   "version": "3.12.1"
  }
 },
 "nbformat": 4,
 "nbformat_minor": 2
}
