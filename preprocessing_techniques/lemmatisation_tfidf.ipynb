{
 "cells": [
  {
   "cell_type": "markdown",
   "metadata": {},
   "source": [
    "# Enhancing Singapore Airlines' Service Through Automated Sentiment Analysis of Customer Reviews\n",
    "\n"
   ]
  },
  {
   "cell_type": "markdown",
   "metadata": {},
   "source": [
    "**Motivation**\n",
    "\n"
   ]
  },
  {
   "cell_type": "markdown",
   "metadata": {},
   "source": [
    "## Singapore Airlines Customer Reviews Dataset Information\n",
    "\n",
    "The [Singapore Airlines Customer Reviews Dataset](https://www.kaggle.com/datasets/kanchana1990/singapore-airlines-reviews) aggregates 10,000 anonymized customer reviews, providing a broad perspective on the passenger experience with Singapore Airlines. \n",
    "\n",
    "The dimensions are shown below:\n",
    "- **`published_date`**: Date and time of review publication.\n",
    "- **`published_platform`**: Platform where the review was posted.\n",
    "- **`rating`**: Customer satisfaction rating, from 1 (lowest) to 5 (highest).\n",
    "- **`type`**: Specifies the content as a review.\n",
    "- **`text`**: Detailed customer feedback.\n",
    "- **`title`**: Summary of the review.\n",
    "- **`helpful_votes`**: Number of users finding the review helpful."
   ]
  },
  {
   "cell_type": "markdown",
   "metadata": {},
   "source": [
    "## Importing Libraries\n",
    "\n",
    "Please uncomment the code box below to pip install relevant dependencies for this notebook."
   ]
  },
  {
   "cell_type": "code",
   "execution_count": 1,
   "metadata": {},
   "outputs": [],
   "source": [
    "# !pip3 install -r requirements.txt"
   ]
  },
  {
   "cell_type": "code",
   "execution_count": 2,
   "metadata": {},
   "outputs": [],
   "source": [
    "# Import necessary libraries\n",
    "\n",
    "# Data manipulation\n",
    "import pandas as pd\n",
    "import numpy as np\n",
    "\n",
    "# Statistical functions\n",
    "from scipy.stats import zscore\n",
    "\n",
    "# For concurrency (running functions in parallel)\n",
    "from concurrent.futures import ThreadPoolExecutor\n",
    "\n",
    "# For caching (to speed up repeated function calls)\n",
    "from functools import lru_cache\n",
    "\n",
    "# For progress tracking\n",
    "from tqdm import tqdm\n",
    "\n",
    "# Plotting and Visualisation\n",
    "import matplotlib.pyplot as plt\n",
    "import seaborn as sns\n",
    "\n",
    "# Language Detection packages\n",
    "# `langdetect` for detecting language\n",
    "from langdetect import detect as langdetect_detect, DetectorFactory\n",
    "from langdetect.lang_detect_exception import LangDetectException\n",
    "# `langid` for an alternative language detection method\n",
    "from langid import classify as langid_classify\n",
    "\n",
    "# Text Preprocessing and NLP\n",
    "# Stopwords (common words to ignore) from NLTK\n",
    "from nltk.corpus import stopwords\n",
    "\n",
    "# Tokenizing sentences/words\n",
    "from nltk.corpus import wordnet\n",
    "\n",
    "# Tokenizing sentences/words\n",
    "from nltk.tokenize import word_tokenize\n",
    "# Lemmatization (converting words to their base form)\n",
    "from nltk.stem import WordNetLemmatizer\n",
    "import nltk\n",
    "# Regular expressions for text pattern matching\n",
    "import re\n",
    "\n",
    "# Word Cloud generation\n",
    "from wordcloud import WordCloud\n",
    "\n",
    "# For generating n-grams\n",
    "from nltk.util import ngrams\n",
    "from collections import Counter"
   ]
  },
  {
   "cell_type": "markdown",
   "metadata": {},
   "source": [
    "## Data Preparation (Loading CSV)\n",
    "\n",
    "Load the `singapore_airline_reviews.csv` file into a pandas DataFrame `data`."
   ]
  },
  {
   "cell_type": "code",
   "execution_count": 3,
   "metadata": {},
   "outputs": [
    {
     "name": "stdout",
     "output_type": "stream",
     "text": [
      "<class 'pandas.core.frame.DataFrame'>\n",
      "RangeIndex: 10000 entries, 0 to 9999\n",
      "Data columns (total 7 columns):\n",
      " #   Column              Non-Null Count  Dtype \n",
      "---  ------              --------------  ----- \n",
      " 0   published_date      10000 non-null  object\n",
      " 1   published_platform  10000 non-null  object\n",
      " 2   rating              10000 non-null  int64 \n",
      " 3   type                10000 non-null  object\n",
      " 4   text                10000 non-null  object\n",
      " 5   title               9999 non-null   object\n",
      " 6   helpful_votes       10000 non-null  int64 \n",
      "dtypes: int64(2), object(5)\n",
      "memory usage: 547.0+ KB\n"
     ]
    }
   ],
   "source": [
    "data = pd.read_csv(\"singapore_airlines_reviews.csv\")\n",
    "data.info()"
   ]
  },
  {
   "cell_type": "code",
   "execution_count": 4,
   "metadata": {},
   "outputs": [
    {
     "data": {
      "text/html": [
       "<div>\n",
       "<style scoped>\n",
       "    .dataframe tbody tr th:only-of-type {\n",
       "        vertical-align: middle;\n",
       "    }\n",
       "\n",
       "    .dataframe tbody tr th {\n",
       "        vertical-align: top;\n",
       "    }\n",
       "\n",
       "    .dataframe thead th {\n",
       "        text-align: right;\n",
       "    }\n",
       "</style>\n",
       "<table border=\"1\" class=\"dataframe\">\n",
       "  <thead>\n",
       "    <tr style=\"text-align: right;\">\n",
       "      <th></th>\n",
       "      <th>published_date</th>\n",
       "      <th>published_platform</th>\n",
       "      <th>rating</th>\n",
       "      <th>type</th>\n",
       "      <th>text</th>\n",
       "      <th>title</th>\n",
       "      <th>helpful_votes</th>\n",
       "    </tr>\n",
       "  </thead>\n",
       "  <tbody>\n",
       "    <tr>\n",
       "      <th>0</th>\n",
       "      <td>2024-03-12T14:41:14-04:00</td>\n",
       "      <td>Desktop</td>\n",
       "      <td>3</td>\n",
       "      <td>review</td>\n",
       "      <td>We used this airline to go from Singapore to L...</td>\n",
       "      <td>Ok</td>\n",
       "      <td>0</td>\n",
       "    </tr>\n",
       "    <tr>\n",
       "      <th>1</th>\n",
       "      <td>2024-03-11T19:39:13-04:00</td>\n",
       "      <td>Desktop</td>\n",
       "      <td>5</td>\n",
       "      <td>review</td>\n",
       "      <td>The service on Singapore Airlines Suites Class...</td>\n",
       "      <td>The service in Suites Class makes one feel lik...</td>\n",
       "      <td>0</td>\n",
       "    </tr>\n",
       "    <tr>\n",
       "      <th>2</th>\n",
       "      <td>2024-03-11T12:20:23-04:00</td>\n",
       "      <td>Desktop</td>\n",
       "      <td>1</td>\n",
       "      <td>review</td>\n",
       "      <td>Booked, paid and received email confirmation f...</td>\n",
       "      <td>Don’t give them your money</td>\n",
       "      <td>0</td>\n",
       "    </tr>\n",
       "    <tr>\n",
       "      <th>3</th>\n",
       "      <td>2024-03-11T07:12:27-04:00</td>\n",
       "      <td>Desktop</td>\n",
       "      <td>5</td>\n",
       "      <td>review</td>\n",
       "      <td>Best airline in the world, seats, food, servic...</td>\n",
       "      <td>Best Airline in the World</td>\n",
       "      <td>0</td>\n",
       "    </tr>\n",
       "    <tr>\n",
       "      <th>4</th>\n",
       "      <td>2024-03-10T05:34:18-04:00</td>\n",
       "      <td>Desktop</td>\n",
       "      <td>2</td>\n",
       "      <td>review</td>\n",
       "      <td>Premium Economy Seating on Singapore Airlines ...</td>\n",
       "      <td>Premium Economy Seating on Singapore Airlines ...</td>\n",
       "      <td>0</td>\n",
       "    </tr>\n",
       "  </tbody>\n",
       "</table>\n",
       "</div>"
      ],
      "text/plain": [
       "              published_date published_platform  rating    type  \\\n",
       "0  2024-03-12T14:41:14-04:00            Desktop       3  review   \n",
       "1  2024-03-11T19:39:13-04:00            Desktop       5  review   \n",
       "2  2024-03-11T12:20:23-04:00            Desktop       1  review   \n",
       "3  2024-03-11T07:12:27-04:00            Desktop       5  review   \n",
       "4  2024-03-10T05:34:18-04:00            Desktop       2  review   \n",
       "\n",
       "                                                text  \\\n",
       "0  We used this airline to go from Singapore to L...   \n",
       "1  The service on Singapore Airlines Suites Class...   \n",
       "2  Booked, paid and received email confirmation f...   \n",
       "3  Best airline in the world, seats, food, servic...   \n",
       "4  Premium Economy Seating on Singapore Airlines ...   \n",
       "\n",
       "                                               title  helpful_votes  \n",
       "0                                                 Ok              0  \n",
       "1  The service in Suites Class makes one feel lik...              0  \n",
       "2                         Don’t give them your money              0  \n",
       "3                          Best Airline in the World              0  \n",
       "4  Premium Economy Seating on Singapore Airlines ...              0  "
      ]
     },
     "execution_count": 4,
     "metadata": {},
     "output_type": "execute_result"
    }
   ],
   "source": [
    "data.head()"
   ]
  },
  {
   "cell_type": "markdown",
   "metadata": {},
   "source": [
    "# Data Cleaning\n",
    "\n",
    "## Remove Duplicate Rows\n",
    "\n",
    "- Drop duplicate rows from the dataframe (`data`) and reset the index."
   ]
  },
  {
   "cell_type": "code",
   "execution_count": 5,
   "metadata": {},
   "outputs": [
    {
     "name": "stdout",
     "output_type": "stream",
     "text": [
      "The new shape is:  (10000, 7)\n",
      "Remaining duplicate rows: 0\n"
     ]
    }
   ],
   "source": [
    "data = data.drop_duplicates().reset_index(drop=True)\n",
    "\n",
    "# Display the new dataframe shape\n",
    "print(\"The new shape is: \", data.shape)\n",
    "\n",
    "# Make sure no more duplicates are present\n",
    "print(\"Remaining duplicate rows:\", data.duplicated().sum())"
   ]
  },
  {
   "cell_type": "markdown",
   "metadata": {},
   "source": [
    "## Check for Null Values\n",
    "\n",
    "- Here we check which features have null values using the `isnull()` function."
   ]
  },
  {
   "cell_type": "code",
   "execution_count": 6,
   "metadata": {},
   "outputs": [
    {
     "data": {
      "text/plain": [
       "published_date        0\n",
       "published_platform    0\n",
       "rating                0\n",
       "type                  0\n",
       "text                  0\n",
       "title                 1\n",
       "helpful_votes         0\n",
       "dtype: int64"
      ]
     },
     "execution_count": 6,
     "metadata": {},
     "output_type": "execute_result"
    }
   ],
   "source": [
    "# In this case only `title` feature has one null value, will fill it with empty string \" \"\n",
    "data.isnull().sum()"
   ]
  },
  {
   "cell_type": "code",
   "execution_count": 7,
   "metadata": {},
   "outputs": [],
   "source": [
    "# Fill missing values with empty string\n",
    "data = data.fillna(\"\")"
   ]
  },
  {
   "cell_type": "code",
   "execution_count": 8,
   "metadata": {},
   "outputs": [
    {
     "data": {
      "text/plain": [
       "published_date        0\n",
       "published_platform    0\n",
       "rating                0\n",
       "type                  0\n",
       "text                  0\n",
       "title                 0\n",
       "helpful_votes         0\n",
       "dtype: int64"
      ]
     },
     "execution_count": 8,
     "metadata": {},
     "output_type": "execute_result"
    }
   ],
   "source": [
    "# Verify that there are no missing values\n",
    "data.isnull().sum()"
   ]
  },
  {
   "cell_type": "markdown",
   "metadata": {},
   "source": [
    "## Convert data types\n",
    "\n",
    "Since the column `published_date` is in data type (`str`), we will\n",
    "- Convert `published_date` to a standard timezone (UTC) format as a new column `date`.\n",
    "- Drop the original `published_date` column after conversion and reset the index."
   ]
  },
  {
   "cell_type": "code",
   "execution_count": 9,
   "metadata": {},
   "outputs": [
    {
     "name": "stdout",
     "output_type": "stream",
     "text": [
      "datetime64[ns, UTC]\n"
     ]
    }
   ],
   "source": [
    "# Set `utc=True` to convert the date to common timezone (UTC)\n",
    "data[\"date\"] = pd.to_datetime(data[\"published_date\"], utc=True)\n",
    "print(data[\"date\"].dtype)"
   ]
  },
  {
   "cell_type": "code",
   "execution_count": 10,
   "metadata": {},
   "outputs": [
    {
     "data": {
      "text/html": [
       "<div>\n",
       "<style scoped>\n",
       "    .dataframe tbody tr th:only-of-type {\n",
       "        vertical-align: middle;\n",
       "    }\n",
       "\n",
       "    .dataframe tbody tr th {\n",
       "        vertical-align: top;\n",
       "    }\n",
       "\n",
       "    .dataframe thead th {\n",
       "        text-align: right;\n",
       "    }\n",
       "</style>\n",
       "<table border=\"1\" class=\"dataframe\">\n",
       "  <thead>\n",
       "    <tr style=\"text-align: right;\">\n",
       "      <th></th>\n",
       "      <th>published_platform</th>\n",
       "      <th>rating</th>\n",
       "      <th>type</th>\n",
       "      <th>text</th>\n",
       "      <th>title</th>\n",
       "      <th>helpful_votes</th>\n",
       "      <th>date</th>\n",
       "    </tr>\n",
       "  </thead>\n",
       "  <tbody>\n",
       "    <tr>\n",
       "      <th>0</th>\n",
       "      <td>Desktop</td>\n",
       "      <td>3</td>\n",
       "      <td>review</td>\n",
       "      <td>We used this airline to go from Singapore to L...</td>\n",
       "      <td>Ok</td>\n",
       "      <td>0</td>\n",
       "      <td>2024-03-12 18:41:14+00:00</td>\n",
       "    </tr>\n",
       "    <tr>\n",
       "      <th>1</th>\n",
       "      <td>Desktop</td>\n",
       "      <td>5</td>\n",
       "      <td>review</td>\n",
       "      <td>The service on Singapore Airlines Suites Class...</td>\n",
       "      <td>The service in Suites Class makes one feel lik...</td>\n",
       "      <td>0</td>\n",
       "      <td>2024-03-11 23:39:13+00:00</td>\n",
       "    </tr>\n",
       "    <tr>\n",
       "      <th>2</th>\n",
       "      <td>Desktop</td>\n",
       "      <td>1</td>\n",
       "      <td>review</td>\n",
       "      <td>Booked, paid and received email confirmation f...</td>\n",
       "      <td>Don’t give them your money</td>\n",
       "      <td>0</td>\n",
       "      <td>2024-03-11 16:20:23+00:00</td>\n",
       "    </tr>\n",
       "    <tr>\n",
       "      <th>3</th>\n",
       "      <td>Desktop</td>\n",
       "      <td>5</td>\n",
       "      <td>review</td>\n",
       "      <td>Best airline in the world, seats, food, servic...</td>\n",
       "      <td>Best Airline in the World</td>\n",
       "      <td>0</td>\n",
       "      <td>2024-03-11 11:12:27+00:00</td>\n",
       "    </tr>\n",
       "    <tr>\n",
       "      <th>4</th>\n",
       "      <td>Desktop</td>\n",
       "      <td>2</td>\n",
       "      <td>review</td>\n",
       "      <td>Premium Economy Seating on Singapore Airlines ...</td>\n",
       "      <td>Premium Economy Seating on Singapore Airlines ...</td>\n",
       "      <td>0</td>\n",
       "      <td>2024-03-10 09:34:18+00:00</td>\n",
       "    </tr>\n",
       "  </tbody>\n",
       "</table>\n",
       "</div>"
      ],
      "text/plain": [
       "  published_platform  rating    type  \\\n",
       "0            Desktop       3  review   \n",
       "1            Desktop       5  review   \n",
       "2            Desktop       1  review   \n",
       "3            Desktop       5  review   \n",
       "4            Desktop       2  review   \n",
       "\n",
       "                                                text  \\\n",
       "0  We used this airline to go from Singapore to L...   \n",
       "1  The service on Singapore Airlines Suites Class...   \n",
       "2  Booked, paid and received email confirmation f...   \n",
       "3  Best airline in the world, seats, food, servic...   \n",
       "4  Premium Economy Seating on Singapore Airlines ...   \n",
       "\n",
       "                                               title  helpful_votes  \\\n",
       "0                                                 Ok              0   \n",
       "1  The service in Suites Class makes one feel lik...              0   \n",
       "2                         Don’t give them your money              0   \n",
       "3                          Best Airline in the World              0   \n",
       "4  Premium Economy Seating on Singapore Airlines ...              0   \n",
       "\n",
       "                       date  \n",
       "0 2024-03-12 18:41:14+00:00  \n",
       "1 2024-03-11 23:39:13+00:00  \n",
       "2 2024-03-11 16:20:23+00:00  \n",
       "3 2024-03-11 11:12:27+00:00  \n",
       "4 2024-03-10 09:34:18+00:00  "
      ]
     },
     "execution_count": 10,
     "metadata": {},
     "output_type": "execute_result"
    }
   ],
   "source": [
    "# Drop `published_date` column and reset the index\n",
    "data = data.drop(columns=[\"published_date\"]).reset_index(drop=True)\n",
    "data.head()"
   ]
  },
  {
   "cell_type": "markdown",
   "metadata": {},
   "source": [
    "## Remove Outliers\n",
    "\n",
    "### `text`\n",
    "\n",
    "The `text` column of `data`, which is of string (`str`) type, may contain values with unusually long lengths, indicating the presence of outliers. We will identify the outliers using [Z-score method].\n",
    "\n",
    "1. Create a new column `text_length` in the DataFrame `data` by calculating the length of each review. (Set the value as 0 if the correponding `text` column has NaN values.)\n",
    "\n",
    "2. Check the statistics of `text_length` using `describe()` method.\n",
    "\n",
    "3. Calculate the mean and standard deviation of the `text_length` column.\n",
    "\n",
    "4. Set the Z-score threshold for identifying outliers to 3.\n",
    "\n",
    "5. Identify outliers of the `text_length` column and set the corresponding `text` to np.nan.\n",
    "\n",
    "6. Drop the `text_length` column from the DataFrame."
   ]
  },
  {
   "cell_type": "code",
   "execution_count": 11,
   "metadata": {},
   "outputs": [
    {
     "name": "stdout",
     "output_type": "stream",
     "text": [
      "  published_platform  rating    type  \\\n",
      "0            Desktop       3  review   \n",
      "1            Desktop       5  review   \n",
      "2            Desktop       1  review   \n",
      "\n",
      "                                                text  \\\n",
      "0  We used this airline to go from Singapore to L...   \n",
      "1  The service on Singapore Airlines Suites Class...   \n",
      "2  Booked, paid and received email confirmation f...   \n",
      "\n",
      "                                               title  helpful_votes  \\\n",
      "0                                                 Ok              0   \n",
      "1  The service in Suites Class makes one feel lik...              0   \n",
      "2                         Don’t give them your money              0   \n",
      "\n",
      "                       date  text_length  \n",
      "0 2024-03-12 18:41:14+00:00         1356  \n",
      "1 2024-03-11 23:39:13+00:00         4674  \n",
      "2 2024-03-11 16:20:23+00:00          420  \n",
      "count    10000.00000\n",
      "mean       558.33400\n",
      "std        642.79261\n",
      "min        100.00000\n",
      "25%        228.00000\n",
      "50%        381.00000\n",
      "75%        667.25000\n",
      "max      18751.00000\n",
      "Name: text_length, dtype: float64\n"
     ]
    }
   ],
   "source": [
    "data['text_length'] = data['text'].apply(lambda x: len(x) if pd.notna(x) else 0)\n",
    "print(data.head(3))\n",
    "\n",
    "TL = data[\"text_length\"]\n",
    "stats_TL = TL.describe()\n",
    "print(stats_TL)"
   ]
  },
  {
   "cell_type": "code",
   "execution_count": 12,
   "metadata": {},
   "outputs": [
    {
     "data": {
      "text/plain": [
       "(10000, 7)"
      ]
     },
     "execution_count": 12,
     "metadata": {},
     "output_type": "execute_result"
    }
   ],
   "source": [
    "mean_TL = TL.mean()\n",
    "# print(mean_TL)\n",
    "\n",
    "sd_TL = TL.std()\n",
    "# print(sd_TL)\n",
    "\n",
    "threshold = 3\n",
    "\n",
    "z_score = zscore(TL)\n",
    "# print(z_score)\n",
    "\n",
    "# Remove 'text' of lengths that are greater than 3 standard deviations above the mean\n",
    "data.loc[abs(z_score) > threshold, 'text'] = np.nan\n",
    "# print(data.head(3))\n",
    "\n",
    "data = data.drop(\"text_length\", axis=1)\n",
    "\n",
    "data.head()\n",
    "data.shape"
   ]
  },
  {
   "cell_type": "markdown",
   "metadata": {},
   "source": [
    "### `title`\n",
    "\n",
    "Similarly, the `title` column of `data` (of type `str`) may also contain values with unusually long lengths, indicating the presence of outliers.\n",
    "\n",
    "1. Create a new column `title_length` in the DataFrame `data` by calculating the length of each price value. (Set the value as 0 if the correponding `title` column has NaN values.)\n",
    "\n",
    "2. Check the statistics of `title_length` using `describe()` method and display its unique values.\n",
    "\n",
    "3. Identify the outlier values by inspecting the content in `title` corresponding to the abnormal value in `title_length` and set the corresponding value of `title` to np.nan.\n",
    "\n",
    "4. Drop the `title_length` column from the DataFrame."
   ]
  },
  {
   "cell_type": "code",
   "execution_count": 13,
   "metadata": {},
   "outputs": [
    {
     "name": "stdout",
     "output_type": "stream",
     "text": [
      "  published_platform  rating    type  \\\n",
      "0            Desktop       3  review   \n",
      "1            Desktop       5  review   \n",
      "2            Desktop       1  review   \n",
      "\n",
      "                                                text  \\\n",
      "0  We used this airline to go from Singapore to L...   \n",
      "1                                                NaN   \n",
      "2  Booked, paid and received email confirmation f...   \n",
      "\n",
      "                                               title  helpful_votes  \\\n",
      "0                                                 Ok              0   \n",
      "1  The service in Suites Class makes one feel lik...              0   \n",
      "2                         Don’t give them your money              0   \n",
      "\n",
      "                       date  title_length  \n",
      "0 2024-03-12 18:41:14+00:00             2  \n",
      "1 2024-03-11 23:39:13+00:00            51  \n",
      "2 2024-03-11 16:20:23+00:00            26  \n",
      "count    10000.000000\n",
      "mean        28.409600\n",
      "std         17.279945\n",
      "min          0.000000\n",
      "25%         16.000000\n",
      "50%         24.000000\n",
      "75%         36.000000\n",
      "max        120.000000\n",
      "Name: title_length, dtype: float64\n"
     ]
    }
   ],
   "source": [
    "data['title_length'] = data['title'].apply(lambda x: len(x) if pd.notna(x) else 0)\n",
    "print(data.head(3))\n",
    "\n",
    "TL = data[\"title_length\"]\n",
    "stats_TL = TL.describe()\n",
    "print(stats_TL)"
   ]
  },
  {
   "cell_type": "code",
   "execution_count": 14,
   "metadata": {},
   "outputs": [
    {
     "data": {
      "text/html": [
       "<div>\n",
       "<style scoped>\n",
       "    .dataframe tbody tr th:only-of-type {\n",
       "        vertical-align: middle;\n",
       "    }\n",
       "\n",
       "    .dataframe tbody tr th {\n",
       "        vertical-align: top;\n",
       "    }\n",
       "\n",
       "    .dataframe thead th {\n",
       "        text-align: right;\n",
       "    }\n",
       "</style>\n",
       "<table border=\"1\" class=\"dataframe\">\n",
       "  <thead>\n",
       "    <tr style=\"text-align: right;\">\n",
       "      <th></th>\n",
       "      <th>published_platform</th>\n",
       "      <th>rating</th>\n",
       "      <th>type</th>\n",
       "      <th>text</th>\n",
       "      <th>title</th>\n",
       "      <th>helpful_votes</th>\n",
       "      <th>date</th>\n",
       "    </tr>\n",
       "  </thead>\n",
       "  <tbody>\n",
       "    <tr>\n",
       "      <th>0</th>\n",
       "      <td>Desktop</td>\n",
       "      <td>3</td>\n",
       "      <td>review</td>\n",
       "      <td>We used this airline to go from Singapore to L...</td>\n",
       "      <td>Ok</td>\n",
       "      <td>0</td>\n",
       "      <td>2024-03-12 18:41:14+00:00</td>\n",
       "    </tr>\n",
       "    <tr>\n",
       "      <th>1</th>\n",
       "      <td>Desktop</td>\n",
       "      <td>5</td>\n",
       "      <td>review</td>\n",
       "      <td>NaN</td>\n",
       "      <td>The service in Suites Class makes one feel lik...</td>\n",
       "      <td>0</td>\n",
       "      <td>2024-03-11 23:39:13+00:00</td>\n",
       "    </tr>\n",
       "    <tr>\n",
       "      <th>2</th>\n",
       "      <td>Desktop</td>\n",
       "      <td>1</td>\n",
       "      <td>review</td>\n",
       "      <td>Booked, paid and received email confirmation f...</td>\n",
       "      <td>Don’t give them your money</td>\n",
       "      <td>0</td>\n",
       "      <td>2024-03-11 16:20:23+00:00</td>\n",
       "    </tr>\n",
       "    <tr>\n",
       "      <th>3</th>\n",
       "      <td>Desktop</td>\n",
       "      <td>5</td>\n",
       "      <td>review</td>\n",
       "      <td>Best airline in the world, seats, food, servic...</td>\n",
       "      <td>Best Airline in the World</td>\n",
       "      <td>0</td>\n",
       "      <td>2024-03-11 11:12:27+00:00</td>\n",
       "    </tr>\n",
       "    <tr>\n",
       "      <th>4</th>\n",
       "      <td>Desktop</td>\n",
       "      <td>2</td>\n",
       "      <td>review</td>\n",
       "      <td>Premium Economy Seating on Singapore Airlines ...</td>\n",
       "      <td>Premium Economy Seating on Singapore Airlines ...</td>\n",
       "      <td>0</td>\n",
       "      <td>2024-03-10 09:34:18+00:00</td>\n",
       "    </tr>\n",
       "  </tbody>\n",
       "</table>\n",
       "</div>"
      ],
      "text/plain": [
       "  published_platform  rating    type  \\\n",
       "0            Desktop       3  review   \n",
       "1            Desktop       5  review   \n",
       "2            Desktop       1  review   \n",
       "3            Desktop       5  review   \n",
       "4            Desktop       2  review   \n",
       "\n",
       "                                                text  \\\n",
       "0  We used this airline to go from Singapore to L...   \n",
       "1                                                NaN   \n",
       "2  Booked, paid and received email confirmation f...   \n",
       "3  Best airline in the world, seats, food, servic...   \n",
       "4  Premium Economy Seating on Singapore Airlines ...   \n",
       "\n",
       "                                               title  helpful_votes  \\\n",
       "0                                                 Ok              0   \n",
       "1  The service in Suites Class makes one feel lik...              0   \n",
       "2                         Don’t give them your money              0   \n",
       "3                          Best Airline in the World              0   \n",
       "4  Premium Economy Seating on Singapore Airlines ...              0   \n",
       "\n",
       "                       date  \n",
       "0 2024-03-12 18:41:14+00:00  \n",
       "1 2024-03-11 23:39:13+00:00  \n",
       "2 2024-03-11 16:20:23+00:00  \n",
       "3 2024-03-11 11:12:27+00:00  \n",
       "4 2024-03-10 09:34:18+00:00  "
      ]
     },
     "execution_count": 14,
     "metadata": {},
     "output_type": "execute_result"
    }
   ],
   "source": [
    "mean_TL = TL.mean()\n",
    "# print(mean_TL)\n",
    "\n",
    "sd_TL = TL.std()\n",
    "# print(sd_TL)\n",
    "\n",
    "threshold = 3\n",
    "\n",
    "z_score = zscore(TL)\n",
    "# print(z_score)\n",
    "\n",
    "# Remove 'title' of lengths that are greater than 3 standard deviations above the mean\n",
    "data.loc[abs(z_score) > threshold, 'title'] = np.nan\n",
    "# print(data.head(3))\n",
    "\n",
    "data = data.drop(\"title_length\", axis=1)\n",
    "data.head()"
   ]
  },
  {
   "cell_type": "code",
   "execution_count": 15,
   "metadata": {},
   "outputs": [
    {
     "name": "stdout",
     "output_type": "stream",
     "text": [
      "<class 'pandas.core.frame.DataFrame'>\n",
      "RangeIndex: 10000 entries, 0 to 9999\n",
      "Data columns (total 7 columns):\n",
      " #   Column              Non-Null Count  Dtype              \n",
      "---  ------              --------------  -----              \n",
      " 0   published_platform  10000 non-null  object             \n",
      " 1   rating              10000 non-null  int64              \n",
      " 2   type                10000 non-null  object             \n",
      " 3   text                9846 non-null   object             \n",
      " 4   title               9834 non-null   object             \n",
      " 5   helpful_votes       10000 non-null  int64              \n",
      " 6   date                10000 non-null  datetime64[ns, UTC]\n",
      "dtypes: datetime64[ns, UTC](1), int64(2), object(4)\n",
      "memory usage: 547.0+ KB\n"
     ]
    }
   ],
   "source": [
    "data.info()"
   ]
  },
  {
   "cell_type": "code",
   "execution_count": 16,
   "metadata": {},
   "outputs": [
    {
     "name": "stdout",
     "output_type": "stream",
     "text": [
      "published_platform                 object\n",
      "rating                              int64\n",
      "type                               object\n",
      "text                               object\n",
      "title                              object\n",
      "helpful_votes                       int64\n",
      "date                  datetime64[ns, UTC]\n",
      "dtype: object\n",
      "Remaining duplicate rows: 0\n",
      "Unique ratings: [3 5 1 2 4]\n"
     ]
    }
   ],
   "source": [
    "#check data types of each column, make sure they are correct\n",
    "print(data.dtypes)\n",
    "\n",
    "# Make sure no more duplicates are present\n",
    "print(\"Remaining duplicate rows:\", data.duplicated().sum())\n",
    "\n",
    "# Check for outliers in ratings\n",
    "print(\"Unique ratings:\", data['rating'].unique())"
   ]
  },
  {
   "cell_type": "code",
   "execution_count": 17,
   "metadata": {},
   "outputs": [
    {
     "data": {
      "text/plain": [
       "published_platform      0\n",
       "rating                  0\n",
       "type                    0\n",
       "text                  154\n",
       "title                 166\n",
       "helpful_votes           0\n",
       "date                    0\n",
       "dtype: int64"
      ]
     },
     "execution_count": 17,
     "metadata": {},
     "output_type": "execute_result"
    }
   ],
   "source": [
    "data.isnull().sum()"
   ]
  },
  {
   "cell_type": "markdown",
   "metadata": {},
   "source": [
    "# Feature Engineering"
   ]
  },
  {
   "cell_type": "markdown",
   "metadata": {},
   "source": [
    "### Create new column `full_review`\n",
    "Since there are some rows with empty `text` and `title`, we will concatenate both columns (`text` and `title`) to form a new column `full_review`.\n",
    "1. Replace `NaN` values in `text` and `title` with an empty string.\n",
    "\n",
    "2. Combine `text` and `title` into `full_review`.\n",
    "\n",
    "3. Strip any leading/trailing whitespaces in `full_review`.\n",
    "\n",
    "4. Drop `text` and `title` columns."
   ]
  },
  {
   "cell_type": "code",
   "execution_count": 18,
   "metadata": {},
   "outputs": [
    {
     "name": "stdout",
     "output_type": "stream",
     "text": [
      "  published_platform  rating    type  helpful_votes                      date  \\\n",
      "0            Desktop       3  review              0 2024-03-12 18:41:14+00:00   \n",
      "1            Desktop       5  review              0 2024-03-11 23:39:13+00:00   \n",
      "2            Desktop       1  review              0 2024-03-11 16:20:23+00:00   \n",
      "3            Desktop       5  review              0 2024-03-11 11:12:27+00:00   \n",
      "4            Desktop       2  review              0 2024-03-10 09:34:18+00:00   \n",
      "\n",
      "                                         full_review  \n",
      "0  We used this airline to go from Singapore to L...  \n",
      "1  The service in Suites Class makes one feel lik...  \n",
      "2  Booked, paid and received email confirmation f...  \n",
      "3  Best airline in the world, seats, food, servic...  \n",
      "4  Premium Economy Seating on Singapore Airlines ...  \n",
      "\n",
      "The old shape is: (10000, 6)\n"
     ]
    }
   ],
   "source": [
    "# 1) Fill NaN values in 'text' and 'title' with an empty string\n",
    "data['title'] = data['title'].fillna('')\n",
    "data['text'] = data['text'].fillna('')\n",
    "\n",
    "# 2) Combine 'text' and 'title' into 'full_review'\n",
    "data['full_review'] = data['text'] + \" \" + data['title']\n",
    "\n",
    "# 3) Strip any leading/trailing whitespace\n",
    "data['full_review'] = data['full_review'].str.strip()\n",
    "\n",
    "# 4) Drop `text` and `title` columns\n",
    "data = data.drop(columns = ['text', 'title'])\n",
    "\n",
    "# Check if the 'full_review' column was added and if 'text' and 'title' columns has been dropped\n",
    "print(data.head())\n",
    "print(\"\\nThe old shape is:\",data.shape)"
   ]
  },
  {
   "cell_type": "markdown",
   "metadata": {},
   "source": [
    "### Remove empty strings\n",
    "1. Drop rows where `full_review` are empty strings and reset the index.\n",
    "\n",
    "2. Check if there are no more null values in `data`."
   ]
  },
  {
   "cell_type": "code",
   "execution_count": 19,
   "metadata": {},
   "outputs": [
    {
     "name": "stdout",
     "output_type": "stream",
     "text": [
      "The new shape is: (9990, 6)\n"
     ]
    },
    {
     "data": {
      "text/plain": [
       "published_platform    0\n",
       "rating                0\n",
       "type                  0\n",
       "helpful_votes         0\n",
       "date                  0\n",
       "full_review           0\n",
       "dtype: int64"
      ]
     },
     "execution_count": 19,
     "metadata": {},
     "output_type": "execute_result"
    }
   ],
   "source": [
    "# 1) Drop rows where `full_review` are empty strings and reset the index\n",
    "data = data[data['full_review'] != \"\"].reset_index(drop=True)\n",
    "print(\"The new shape is:\",data.shape)\n",
    "\n",
    "# 2) Check if there are no more null values in `data`\n",
    "data.isnull().sum()"
   ]
  },
  {
   "cell_type": "markdown",
   "metadata": {},
   "source": [
    "### Create new column `language`\n",
    "In the case where there are rows where `full_review` are in different languages (e.g., French, Russian, etc.) other than English. We decided to use 2 different language detector libraries (`langdetect`, `langid`) on the `full_review` column and combined the predictions of all 2 libraries and selecting the most frequent predicted language.\n",
    "\n",
    "**Reason**: `langdetect` might perform well on longer texts while `langid` is more reliable on short texts, using multiple detectors reduces the likelihood of misclassification and mitigates individual detector errors, leading to more accurate overall predictions. Also, even if one detector fails or throws an error, the other can still provide predictions, therefore improving the robustness of the language detection.\n",
    "\n",
    "1. Set a seed for `langdetect` to ensure reproducibility.\n",
    "\n",
    "2. Preprocess the text in `full_review`:\n",
    "    - a\\) Function to remove non-alphabetic characters and normalise whitespaces in  `full_review`.\n",
    "    - b\\) Function to determine if the text is non-language (e.g., numbers, symbols only).\n",
    "\n",
    "3. Two functions for language detection:\n",
    "    - a\\) Using `langdetect`.\n",
    "    - b\\) Using `langid`.\n",
    "\n",
    "4. Function for calculating majority vote for each language.\n",
    "\n",
    "5. Function for parallel processing for efficiency.\n",
    "\n",
    "6. Caching function for repeated inputs\n",
    "\n",
    "7. Function for choosing language based on combined majority voting.\n",
    "\n",
    "8. Applying the combined function on `full_review` column.\n",
    "\n",
    "9. Display the resulting `data` DataFrame.\n",
    "\n",
    "### <span style=\"color:red\">The code below will take approximately 1 minute to run!</span>"
   ]
  },
  {
   "cell_type": "code",
   "execution_count": 20,
   "metadata": {},
   "outputs": [
    {
     "name": "stderr",
     "output_type": "stream",
     "text": [
      "Language Detection: 100%|██████████| 9990/9990 [01:55<00:00, 86.63it/s] \n"
     ]
    },
    {
     "data": {
      "text/html": [
       "<div>\n",
       "<style scoped>\n",
       "    .dataframe tbody tr th:only-of-type {\n",
       "        vertical-align: middle;\n",
       "    }\n",
       "\n",
       "    .dataframe tbody tr th {\n",
       "        vertical-align: top;\n",
       "    }\n",
       "\n",
       "    .dataframe thead th {\n",
       "        text-align: right;\n",
       "    }\n",
       "</style>\n",
       "<table border=\"1\" class=\"dataframe\">\n",
       "  <thead>\n",
       "    <tr style=\"text-align: right;\">\n",
       "      <th></th>\n",
       "      <th>published_platform</th>\n",
       "      <th>rating</th>\n",
       "      <th>type</th>\n",
       "      <th>helpful_votes</th>\n",
       "      <th>date</th>\n",
       "      <th>full_review</th>\n",
       "      <th>language</th>\n",
       "    </tr>\n",
       "  </thead>\n",
       "  <tbody>\n",
       "    <tr>\n",
       "      <th>0</th>\n",
       "      <td>Desktop</td>\n",
       "      <td>3</td>\n",
       "      <td>review</td>\n",
       "      <td>0</td>\n",
       "      <td>2024-03-12 18:41:14+00:00</td>\n",
       "      <td>We used this airline to go from Singapore to L...</td>\n",
       "      <td>en</td>\n",
       "    </tr>\n",
       "    <tr>\n",
       "      <th>1</th>\n",
       "      <td>Desktop</td>\n",
       "      <td>5</td>\n",
       "      <td>review</td>\n",
       "      <td>0</td>\n",
       "      <td>2024-03-11 23:39:13+00:00</td>\n",
       "      <td>The service in Suites Class makes one feel lik...</td>\n",
       "      <td>en</td>\n",
       "    </tr>\n",
       "    <tr>\n",
       "      <th>2</th>\n",
       "      <td>Desktop</td>\n",
       "      <td>1</td>\n",
       "      <td>review</td>\n",
       "      <td>0</td>\n",
       "      <td>2024-03-11 16:20:23+00:00</td>\n",
       "      <td>Booked, paid and received email confirmation f...</td>\n",
       "      <td>en</td>\n",
       "    </tr>\n",
       "    <tr>\n",
       "      <th>3</th>\n",
       "      <td>Desktop</td>\n",
       "      <td>5</td>\n",
       "      <td>review</td>\n",
       "      <td>0</td>\n",
       "      <td>2024-03-11 11:12:27+00:00</td>\n",
       "      <td>Best airline in the world, seats, food, servic...</td>\n",
       "      <td>en</td>\n",
       "    </tr>\n",
       "    <tr>\n",
       "      <th>4</th>\n",
       "      <td>Desktop</td>\n",
       "      <td>2</td>\n",
       "      <td>review</td>\n",
       "      <td>0</td>\n",
       "      <td>2024-03-10 09:34:18+00:00</td>\n",
       "      <td>Premium Economy Seating on Singapore Airlines ...</td>\n",
       "      <td>en</td>\n",
       "    </tr>\n",
       "    <tr>\n",
       "      <th>...</th>\n",
       "      <td>...</td>\n",
       "      <td>...</td>\n",
       "      <td>...</td>\n",
       "      <td>...</td>\n",
       "      <td>...</td>\n",
       "      <td>...</td>\n",
       "      <td>...</td>\n",
       "    </tr>\n",
       "    <tr>\n",
       "      <th>9985</th>\n",
       "      <td>Desktop</td>\n",
       "      <td>5</td>\n",
       "      <td>review</td>\n",
       "      <td>1</td>\n",
       "      <td>2018-08-06 07:48:21+00:00</td>\n",
       "      <td>First part done with Singapore Airlines - acce...</td>\n",
       "      <td>en</td>\n",
       "    </tr>\n",
       "    <tr>\n",
       "      <th>9986</th>\n",
       "      <td>Mobile</td>\n",
       "      <td>5</td>\n",
       "      <td>review</td>\n",
       "      <td>1</td>\n",
       "      <td>2018-08-06 02:50:29+00:00</td>\n",
       "      <td>And again a great Flight with Singapore Air. G...</td>\n",
       "      <td>en</td>\n",
       "    </tr>\n",
       "    <tr>\n",
       "      <th>9987</th>\n",
       "      <td>Desktop</td>\n",
       "      <td>5</td>\n",
       "      <td>review</td>\n",
       "      <td>1</td>\n",
       "      <td>2018-08-06 02:47:06+00:00</td>\n",
       "      <td>We flew business class from Frankfurt, via Sin...</td>\n",
       "      <td>en</td>\n",
       "    </tr>\n",
       "    <tr>\n",
       "      <th>9988</th>\n",
       "      <td>Desktop</td>\n",
       "      <td>4</td>\n",
       "      <td>review</td>\n",
       "      <td>2</td>\n",
       "      <td>2018-08-06 00:32:03+00:00</td>\n",
       "      <td>As always, the A380 aircraft was spotlessly pr...</td>\n",
       "      <td>en</td>\n",
       "    </tr>\n",
       "    <tr>\n",
       "      <th>9989</th>\n",
       "      <td>Desktop</td>\n",
       "      <td>4</td>\n",
       "      <td>review</td>\n",
       "      <td>3</td>\n",
       "      <td>2018-08-06 00:19:51+00:00</td>\n",
       "      <td>As always, Singapore Airlines has done it agai...</td>\n",
       "      <td>en</td>\n",
       "    </tr>\n",
       "  </tbody>\n",
       "</table>\n",
       "<p>9990 rows × 7 columns</p>\n",
       "</div>"
      ],
      "text/plain": [
       "     published_platform  rating    type  helpful_votes  \\\n",
       "0               Desktop       3  review              0   \n",
       "1               Desktop       5  review              0   \n",
       "2               Desktop       1  review              0   \n",
       "3               Desktop       5  review              0   \n",
       "4               Desktop       2  review              0   \n",
       "...                 ...     ...     ...            ...   \n",
       "9985            Desktop       5  review              1   \n",
       "9986             Mobile       5  review              1   \n",
       "9987            Desktop       5  review              1   \n",
       "9988            Desktop       4  review              2   \n",
       "9989            Desktop       4  review              3   \n",
       "\n",
       "                          date  \\\n",
       "0    2024-03-12 18:41:14+00:00   \n",
       "1    2024-03-11 23:39:13+00:00   \n",
       "2    2024-03-11 16:20:23+00:00   \n",
       "3    2024-03-11 11:12:27+00:00   \n",
       "4    2024-03-10 09:34:18+00:00   \n",
       "...                        ...   \n",
       "9985 2018-08-06 07:48:21+00:00   \n",
       "9986 2018-08-06 02:50:29+00:00   \n",
       "9987 2018-08-06 02:47:06+00:00   \n",
       "9988 2018-08-06 00:32:03+00:00   \n",
       "9989 2018-08-06 00:19:51+00:00   \n",
       "\n",
       "                                            full_review language  \n",
       "0     We used this airline to go from Singapore to L...       en  \n",
       "1     The service in Suites Class makes one feel lik...       en  \n",
       "2     Booked, paid and received email confirmation f...       en  \n",
       "3     Best airline in the world, seats, food, servic...       en  \n",
       "4     Premium Economy Seating on Singapore Airlines ...       en  \n",
       "...                                                 ...      ...  \n",
       "9985  First part done with Singapore Airlines - acce...       en  \n",
       "9986  And again a great Flight with Singapore Air. G...       en  \n",
       "9987  We flew business class from Frankfurt, via Sin...       en  \n",
       "9988  As always, the A380 aircraft was spotlessly pr...       en  \n",
       "9989  As always, Singapore Airlines has done it agai...       en  \n",
       "\n",
       "[9990 rows x 7 columns]"
      ]
     },
     "execution_count": 20,
     "metadata": {},
     "output_type": "execute_result"
    }
   ],
   "source": [
    "# 1) Set a seed for langdetect to ensure reproducibility\n",
    "DetectorFactory.seed = 0\n",
    "\n",
    "# 2a) Simplified preprocessing: only remove non-alphabetic characters\n",
    "def preprocess_text_simple(text):\n",
    "    text = re.sub(r'[^a-zA-Z\\s]', '', text)  # Remove non-alphabetic characters\n",
    "    text = re.sub(r'\\s+', ' ', text)  # Normalize whitespace\n",
    "    return text.strip()\n",
    "\n",
    "# 2b) Check if the text is non-language (e.g., numbers, symbols only)\n",
    "def is_non_language_text(text):\n",
    "    if re.match(r'^[^a-zA-Z]*$', text):  # Check if text has no alphabetic characters\n",
    "        return True\n",
    "    return False\n",
    "\n",
    "# 3a) Function to get langdetect prediction\n",
    "def get_langdetect_prediction(text):\n",
    "    try:\n",
    "        # Directly use text without preprocessing for efficiency\n",
    "        if len(text) < 10 or is_non_language_text(text):\n",
    "            return \"unknown\"\n",
    "        lang = langdetect_detect(text)\n",
    "        return lang\n",
    "    except LangDetectException:\n",
    "        return \"unknown\"\n",
    "\n",
    "# 3b) Function to get langid prediction\n",
    "def get_langid_prediction(text):\n",
    "    try:\n",
    "        lang, _ = langid_classify(text)\n",
    "        if len(text) < 10 or is_non_language_text(text):\n",
    "            return \"unknown\"\n",
    "        return lang\n",
    "    except Exception:\n",
    "        return \"unknown\"\n",
    "\n",
    "# 4) Function to calculate majority vote for each language\n",
    "def calculate_majority_vote(predictions):\n",
    "    vote_counts = {}\n",
    "    for lang in predictions:\n",
    "        if lang in vote_counts:\n",
    "            vote_counts[lang] += 1\n",
    "        else:\n",
    "            vote_counts[lang] = 1\n",
    "    return vote_counts\n",
    "\n",
    "# 5) Parallel processing for efficiency with limited workers\n",
    "def parallel_detection(text):\n",
    "    with ThreadPoolExecutor(max_workers=4) as executor:\n",
    "        results = list(executor.map(lambda func: func(text), \n",
    "                                    [get_langdetect_prediction, get_langid_prediction]))\n",
    "    return results\n",
    "\n",
    "# 6) Caching function for repeated inputs\n",
    "@lru_cache(maxsize=500)\n",
    "def get_cached_language(text):\n",
    "    return combined_language_detection(text)\n",
    "\n",
    "# 7) Combined majority voting language detection function\n",
    "def combined_language_detection(text):\n",
    "    # Check if the text is non-language (e.g., numbers, symbols only)\n",
    "    if is_non_language_text(text):\n",
    "        return \"unknown\"\n",
    "    \n",
    "    # Run the detectors in parallel for efficiency\n",
    "    predictions = parallel_detection(text)\n",
    "    \n",
    "    # Calculate majority vote for each language based on predictions\n",
    "    vote_counts = calculate_majority_vote(predictions)\n",
    "    \n",
    "    # Determine the language with the highest majority vote\n",
    "    final_language = max(vote_counts, key=vote_counts.get)\n",
    "    \n",
    "    # If \"unknown\" is the most common or if all detectors fail, return \"unknown\"\n",
    "    if final_language == \"unknown\" or vote_counts[final_language] <= 1:\n",
    "        return \"unknown\"\n",
    "    \n",
    "    return final_language\n",
    "\n",
    "# 8) Apply the cached function to each text in the DataFrame with a progress bar\n",
    "data['language'] = [get_cached_language(text) for text in tqdm(data['full_review'], desc=\"Language Detection\")]\n",
    "\n",
    "# 9) Display the DataFrame with detected languages\n",
    "data"
   ]
  },
  {
   "cell_type": "code",
   "execution_count": 21,
   "metadata": {},
   "outputs": [
    {
     "data": {
      "text/plain": [
       "language\n",
       "en         9953\n",
       "unknown      32\n",
       "es            1\n",
       "de            1\n",
       "th            1\n",
       "fr            1\n",
       "sv            1\n",
       "Name: count, dtype: int64"
      ]
     },
     "execution_count": 21,
     "metadata": {},
     "output_type": "execute_result"
    }
   ],
   "source": [
    "# See distribution of languages\n",
    "data[\"language\"].value_counts()"
   ]
  },
  {
   "cell_type": "code",
   "execution_count": 22,
   "metadata": {},
   "outputs": [
    {
     "name": "stdout",
     "output_type": "stream",
     "text": [
      "(9953, 7)\n"
     ]
    }
   ],
   "source": [
    "# Drop rows where language is NOT in english and reset the index\n",
    "data = data[data['language'] == 'en'].reset_index(drop=True)\n",
    "print(data.shape)"
   ]
  },
  {
   "cell_type": "markdown",
   "metadata": {},
   "source": [
    "We will drop the `language` column since all values of `language` are `en` and all `full_review` are in the English language."
   ]
  },
  {
   "cell_type": "code",
   "execution_count": 23,
   "metadata": {},
   "outputs": [
    {
     "name": "stdout",
     "output_type": "stream",
     "text": [
      "<class 'pandas.core.frame.DataFrame'>\n",
      "RangeIndex: 9953 entries, 0 to 9952\n",
      "Data columns (total 7 columns):\n",
      " #   Column              Non-Null Count  Dtype              \n",
      "---  ------              --------------  -----              \n",
      " 0   published_platform  9953 non-null   object             \n",
      " 1   rating              9953 non-null   int64              \n",
      " 2   type                9953 non-null   object             \n",
      " 3   helpful_votes       9953 non-null   int64              \n",
      " 4   date                9953 non-null   datetime64[ns, UTC]\n",
      " 5   full_review         9953 non-null   object             \n",
      " 6   language            9953 non-null   object             \n",
      "dtypes: datetime64[ns, UTC](1), int64(2), object(4)\n",
      "memory usage: 544.4+ KB\n",
      "The new shape is: (9953, 6)\n"
     ]
    }
   ],
   "source": [
    "data.info()\n",
    "data.drop(columns=[\"language\"], inplace=True)\n",
    "print(\"The new shape is:\", data.shape)"
   ]
  },
  {
   "cell_type": "code",
   "execution_count": 24,
   "metadata": {},
   "outputs": [
    {
     "data": {
      "text/html": [
       "<div>\n",
       "<style scoped>\n",
       "    .dataframe tbody tr th:only-of-type {\n",
       "        vertical-align: middle;\n",
       "    }\n",
       "\n",
       "    .dataframe tbody tr th {\n",
       "        vertical-align: top;\n",
       "    }\n",
       "\n",
       "    .dataframe thead th {\n",
       "        text-align: right;\n",
       "    }\n",
       "</style>\n",
       "<table border=\"1\" class=\"dataframe\">\n",
       "  <thead>\n",
       "    <tr style=\"text-align: right;\">\n",
       "      <th></th>\n",
       "      <th>published_platform</th>\n",
       "      <th>rating</th>\n",
       "      <th>type</th>\n",
       "      <th>helpful_votes</th>\n",
       "      <th>date</th>\n",
       "      <th>full_review</th>\n",
       "    </tr>\n",
       "  </thead>\n",
       "  <tbody>\n",
       "    <tr>\n",
       "      <th>0</th>\n",
       "      <td>Desktop</td>\n",
       "      <td>3</td>\n",
       "      <td>review</td>\n",
       "      <td>0</td>\n",
       "      <td>2024-03-12 18:41:14+00:00</td>\n",
       "      <td>We used this airline to go from Singapore to L...</td>\n",
       "    </tr>\n",
       "    <tr>\n",
       "      <th>1</th>\n",
       "      <td>Desktop</td>\n",
       "      <td>5</td>\n",
       "      <td>review</td>\n",
       "      <td>0</td>\n",
       "      <td>2024-03-11 23:39:13+00:00</td>\n",
       "      <td>The service in Suites Class makes one feel lik...</td>\n",
       "    </tr>\n",
       "    <tr>\n",
       "      <th>2</th>\n",
       "      <td>Desktop</td>\n",
       "      <td>1</td>\n",
       "      <td>review</td>\n",
       "      <td>0</td>\n",
       "      <td>2024-03-11 16:20:23+00:00</td>\n",
       "      <td>Booked, paid and received email confirmation f...</td>\n",
       "    </tr>\n",
       "    <tr>\n",
       "      <th>3</th>\n",
       "      <td>Desktop</td>\n",
       "      <td>5</td>\n",
       "      <td>review</td>\n",
       "      <td>0</td>\n",
       "      <td>2024-03-11 11:12:27+00:00</td>\n",
       "      <td>Best airline in the world, seats, food, servic...</td>\n",
       "    </tr>\n",
       "    <tr>\n",
       "      <th>4</th>\n",
       "      <td>Desktop</td>\n",
       "      <td>2</td>\n",
       "      <td>review</td>\n",
       "      <td>0</td>\n",
       "      <td>2024-03-10 09:34:18+00:00</td>\n",
       "      <td>Premium Economy Seating on Singapore Airlines ...</td>\n",
       "    </tr>\n",
       "  </tbody>\n",
       "</table>\n",
       "</div>"
      ],
      "text/plain": [
       "  published_platform  rating    type  helpful_votes                      date  \\\n",
       "0            Desktop       3  review              0 2024-03-12 18:41:14+00:00   \n",
       "1            Desktop       5  review              0 2024-03-11 23:39:13+00:00   \n",
       "2            Desktop       1  review              0 2024-03-11 16:20:23+00:00   \n",
       "3            Desktop       5  review              0 2024-03-11 11:12:27+00:00   \n",
       "4            Desktop       2  review              0 2024-03-10 09:34:18+00:00   \n",
       "\n",
       "                                         full_review  \n",
       "0  We used this airline to go from Singapore to L...  \n",
       "1  The service in Suites Class makes one feel lik...  \n",
       "2  Booked, paid and received email confirmation f...  \n",
       "3  Best airline in the world, seats, food, servic...  \n",
       "4  Premium Economy Seating on Singapore Airlines ...  "
      ]
     },
     "execution_count": 24,
     "metadata": {},
     "output_type": "execute_result"
    }
   ],
   "source": [
    "data.head()"
   ]
  },
  {
   "cell_type": "markdown",
   "metadata": {},
   "source": [
    "# Text Preprocessing for NLP\n",
    "\n",
    "Here we will define a function `process_full_review` that takes a textual value as input and applies the following processing steps in sequence:\n",
    "\n",
    "1. Convert the input text to lowercase using the `lower()` function.\n",
    "\n",
    "2. Tokenize the lowercase text using the `word_tokenize` function from the NLTK library.\n",
    "\n",
    "3. Create a list (`alphabetic_tokens`) containing only alphanetic tokens using a list comprehension with a regular expression match.\n",
    "\n",
    "4. Remove stopwords\n",
    "-   Obtain a set of English stopwords using the `stopwords.words('english')` method.\n",
    "-   Define a list of `allowed_words` that should not be removed.\n",
    "-   Remove the stopwords (excluding those that should not be removed).\n",
    "\n",
    "5. Apply lemmatization to each token in the list (`lemmatized_words`) using the `lemmatize` method.\n",
    "\n",
    "6. Join the lemmatized tokens into a single processed text using the `join` method and return the processed text.\n",
    "\n",
    "Create a new column `processed_full_review` in `data` by applying the `process_full_review` function to the `full_review` column."
   ]
  },
  {
   "cell_type": "code",
   "execution_count": 25,
   "metadata": {},
   "outputs": [
    {
     "name": "stderr",
     "output_type": "stream",
     "text": [
      "[nltk_data] Downloading package punkt to\n",
      "[nltk_data]     C:\\Users\\Redbu\\AppData\\Roaming\\nltk_data...\n",
      "[nltk_data]   Package punkt is already up-to-date!\n",
      "[nltk_data] Downloading package stopwords to\n",
      "[nltk_data]     C:\\Users\\Redbu\\AppData\\Roaming\\nltk_data...\n",
      "[nltk_data]   Package stopwords is already up-to-date!\n",
      "[nltk_data] Downloading package wordnet to\n",
      "[nltk_data]     C:\\Users\\Redbu\\AppData\\Roaming\\nltk_data...\n",
      "[nltk_data]   Package wordnet is already up-to-date!\n",
      "[nltk_data] Downloading package averaged_perceptron_tagger to\n",
      "[nltk_data]     C:\\Users\\Redbu\\AppData\\Roaming\\nltk_data...\n",
      "[nltk_data]   Package averaged_perceptron_tagger is already up-to-\n",
      "[nltk_data]       date!\n"
     ]
    },
    {
     "data": {
      "text/plain": [
       "True"
      ]
     },
     "execution_count": 25,
     "metadata": {},
     "output_type": "execute_result"
    }
   ],
   "source": [
    "# Ensure require NLTK data is downloaded\n",
    "nltk.download('punkt')\n",
    "nltk.download('stopwords')\n",
    "nltk.download('wordnet')\n",
    "nltk.download('averaged_perceptron_tagger')"
   ]
  },
  {
   "cell_type": "markdown",
   "metadata": {},
   "source": [
    "# WordNet Lemmatizer\n",
    "Unlike stemming, lemmatization considers the meaning of a word and its part of speech to return the base or dictionary form (lemma).\n",
    "\n",
    "It's considered less aggressive, it returns actual words, not just stems.\n",
    "\n",
    "It's context-sensitive.\n",
    "\n",
    "However, it's slower than stemming, about twice as long and requires accurate POS tagging for best results."
   ]
  },
  {
   "cell_type": "code",
   "execution_count": 28,
   "metadata": {},
   "outputs": [],
   "source": [
    "# Define function to process text\n",
    "from nltk import pos_tag\n",
    "import string\n",
    "def process_full_review(text):\n",
    "    # Convert to lowercase and tokenize\n",
    "    text = text.lower()\n",
    "    tokens = word_tokenize(text)\n",
    "    tokens = [word for word in tokens if word not in string.punctuation]\n",
    "    pos_categories = {\n",
    "    'pronouns': ['PRP', 'PRP$', 'WP', 'WP$'],\n",
    "    'modal_verbs': ['MD'],\n",
    "    'negations': ['RB', 'DT'],  # Words like 'not', 'no', 'never'\n",
    "    'verbs': ['VB', 'VBD', 'VBG', 'VBN', 'VBP', 'VBZ'],  # Action words\n",
    "    'nouns': ['NN', 'NNS', 'NNP', 'NNPS'],  # Subjects, objects\n",
    "    'adverbs': ['RB', 'RBR', 'RBS'],  # Words that modify verbs/adjectives\n",
    "    }\n",
    "    # List of stopwords\n",
    "    stop_words = stopwords.words('english')\n",
    "    allowed_words = [\"no\", \"not\", \"don't\", \"dont\", \"don\", \"but\", \n",
    "                     \"however\", \"never\", \"wasn't\", \"wasnt\", \"shouldn't\",\n",
    "                     \"shouldnt\", \"mustn't\", \"musnt\"]\n",
    "\n",
    "    # POS tagging\n",
    "    pos_tags = pos_tag(tokens)\n",
    "    \n",
    "    # Initialize lemmatizer\n",
    "    lemmatizer = WordNetLemmatizer()\n",
    "\n",
    "    # Lemmatize tokens based on POS tags in your dictionary\n",
    "    lemmatized_tokens = []\n",
    "    for word, tag in pos_tags:\n",
    "        if word not in stop_words or word in allowed_words:\n",
    "            if tag in pos_categories['verbs']:\n",
    "                lemmatized_tokens.append(lemmatizer.lemmatize(word, 'v'))\n",
    "            elif tag in pos_categories['nouns']:\n",
    "                lemmatized_tokens.append(lemmatizer.lemmatize(word, 'n'))\n",
    "            elif tag in pos_categories['adverbs']:\n",
    "                lemmatized_tokens.append(lemmatizer.lemmatize(word, 'r'))\n",
    "            else:\n",
    "                lemmatized_tokens.append(lemmatizer.lemmatize(word))\n",
    "\n",
    "    # Join and return processed text\n",
    "    return ' '.join(lemmatized_tokens)"
   ]
  },
  {
   "cell_type": "code",
   "execution_count": 29,
   "metadata": {},
   "outputs": [
    {
     "name": "stderr",
     "output_type": "stream",
     "text": [
      "Processing Reviews: 100%|██████████| 9953/9953 [01:25<00:00, 116.80it/s]\n"
     ]
    },
    {
     "data": {
      "text/html": [
       "<div>\n",
       "<style scoped>\n",
       "    .dataframe tbody tr th:only-of-type {\n",
       "        vertical-align: middle;\n",
       "    }\n",
       "\n",
       "    .dataframe tbody tr th {\n",
       "        vertical-align: top;\n",
       "    }\n",
       "\n",
       "    .dataframe thead th {\n",
       "        text-align: right;\n",
       "    }\n",
       "</style>\n",
       "<table border=\"1\" class=\"dataframe\">\n",
       "  <thead>\n",
       "    <tr style=\"text-align: right;\">\n",
       "      <th></th>\n",
       "      <th>published_platform</th>\n",
       "      <th>rating</th>\n",
       "      <th>type</th>\n",
       "      <th>helpful_votes</th>\n",
       "      <th>date</th>\n",
       "      <th>full_review</th>\n",
       "      <th>processed_full_review</th>\n",
       "    </tr>\n",
       "  </thead>\n",
       "  <tbody>\n",
       "    <tr>\n",
       "      <th>0</th>\n",
       "      <td>Desktop</td>\n",
       "      <td>3</td>\n",
       "      <td>review</td>\n",
       "      <td>0</td>\n",
       "      <td>2024-03-12 18:41:14+00:00</td>\n",
       "      <td>We used this airline to go from Singapore to L...</td>\n",
       "      <td>use airline go singapore london heathrow issue...</td>\n",
       "    </tr>\n",
       "    <tr>\n",
       "      <th>1</th>\n",
       "      <td>Desktop</td>\n",
       "      <td>5</td>\n",
       "      <td>review</td>\n",
       "      <td>0</td>\n",
       "      <td>2024-03-11 23:39:13+00:00</td>\n",
       "      <td>The service in Suites Class makes one feel lik...</td>\n",
       "      <td>service suite class make one feel like vip</td>\n",
       "    </tr>\n",
       "    <tr>\n",
       "      <th>2</th>\n",
       "      <td>Desktop</td>\n",
       "      <td>1</td>\n",
       "      <td>review</td>\n",
       "      <td>0</td>\n",
       "      <td>2024-03-11 16:20:23+00:00</td>\n",
       "      <td>Booked, paid and received email confirmation f...</td>\n",
       "      <td>book paid receive email confirmation extra leg...</td>\n",
       "    </tr>\n",
       "    <tr>\n",
       "      <th>3</th>\n",
       "      <td>Desktop</td>\n",
       "      <td>5</td>\n",
       "      <td>review</td>\n",
       "      <td>0</td>\n",
       "      <td>2024-03-11 11:12:27+00:00</td>\n",
       "      <td>Best airline in the world, seats, food, servic...</td>\n",
       "      <td>best airline world seat food service brilliant...</td>\n",
       "    </tr>\n",
       "    <tr>\n",
       "      <th>4</th>\n",
       "      <td>Desktop</td>\n",
       "      <td>2</td>\n",
       "      <td>review</td>\n",
       "      <td>0</td>\n",
       "      <td>2024-03-10 09:34:18+00:00</td>\n",
       "      <td>Premium Economy Seating on Singapore Airlines ...</td>\n",
       "      <td>premium economy seat singapore airline narrow ...</td>\n",
       "    </tr>\n",
       "    <tr>\n",
       "      <th>...</th>\n",
       "      <td>...</td>\n",
       "      <td>...</td>\n",
       "      <td>...</td>\n",
       "      <td>...</td>\n",
       "      <td>...</td>\n",
       "      <td>...</td>\n",
       "      <td>...</td>\n",
       "    </tr>\n",
       "    <tr>\n",
       "      <th>9948</th>\n",
       "      <td>Desktop</td>\n",
       "      <td>5</td>\n",
       "      <td>review</td>\n",
       "      <td>1</td>\n",
       "      <td>2018-08-06 07:48:21+00:00</td>\n",
       "      <td>First part done with Singapore Airlines - acce...</td>\n",
       "      <td>first part do singapore airline acceptable com...</td>\n",
       "    </tr>\n",
       "    <tr>\n",
       "      <th>9949</th>\n",
       "      <td>Mobile</td>\n",
       "      <td>5</td>\n",
       "      <td>review</td>\n",
       "      <td>1</td>\n",
       "      <td>2018-08-06 02:50:29+00:00</td>\n",
       "      <td>And again a great Flight with Singapore Air. G...</td>\n",
       "      <td>great flight singapore air great unique servic...</td>\n",
       "    </tr>\n",
       "    <tr>\n",
       "      <th>9950</th>\n",
       "      <td>Desktop</td>\n",
       "      <td>5</td>\n",
       "      <td>review</td>\n",
       "      <td>1</td>\n",
       "      <td>2018-08-06 02:47:06+00:00</td>\n",
       "      <td>We flew business class from Frankfurt, via Sin...</td>\n",
       "      <td>fly business class frankfurt via singapore bri...</td>\n",
       "    </tr>\n",
       "    <tr>\n",
       "      <th>9951</th>\n",
       "      <td>Desktop</td>\n",
       "      <td>4</td>\n",
       "      <td>review</td>\n",
       "      <td>2</td>\n",
       "      <td>2018-08-06 00:32:03+00:00</td>\n",
       "      <td>As always, the A380 aircraft was spotlessly pr...</td>\n",
       "      <td>always a380 aircraft spotlessly present board ...</td>\n",
       "    </tr>\n",
       "    <tr>\n",
       "      <th>9952</th>\n",
       "      <td>Desktop</td>\n",
       "      <td>4</td>\n",
       "      <td>review</td>\n",
       "      <td>3</td>\n",
       "      <td>2018-08-06 00:19:51+00:00</td>\n",
       "      <td>As always, Singapore Airlines has done it agai...</td>\n",
       "      <td>always singapore airline do red-eye flight sec...</td>\n",
       "    </tr>\n",
       "  </tbody>\n",
       "</table>\n",
       "<p>9953 rows × 7 columns</p>\n",
       "</div>"
      ],
      "text/plain": [
       "     published_platform  rating    type  helpful_votes  \\\n",
       "0               Desktop       3  review              0   \n",
       "1               Desktop       5  review              0   \n",
       "2               Desktop       1  review              0   \n",
       "3               Desktop       5  review              0   \n",
       "4               Desktop       2  review              0   \n",
       "...                 ...     ...     ...            ...   \n",
       "9948            Desktop       5  review              1   \n",
       "9949             Mobile       5  review              1   \n",
       "9950            Desktop       5  review              1   \n",
       "9951            Desktop       4  review              2   \n",
       "9952            Desktop       4  review              3   \n",
       "\n",
       "                          date  \\\n",
       "0    2024-03-12 18:41:14+00:00   \n",
       "1    2024-03-11 23:39:13+00:00   \n",
       "2    2024-03-11 16:20:23+00:00   \n",
       "3    2024-03-11 11:12:27+00:00   \n",
       "4    2024-03-10 09:34:18+00:00   \n",
       "...                        ...   \n",
       "9948 2018-08-06 07:48:21+00:00   \n",
       "9949 2018-08-06 02:50:29+00:00   \n",
       "9950 2018-08-06 02:47:06+00:00   \n",
       "9951 2018-08-06 00:32:03+00:00   \n",
       "9952 2018-08-06 00:19:51+00:00   \n",
       "\n",
       "                                            full_review  \\\n",
       "0     We used this airline to go from Singapore to L...   \n",
       "1     The service in Suites Class makes one feel lik...   \n",
       "2     Booked, paid and received email confirmation f...   \n",
       "3     Best airline in the world, seats, food, servic...   \n",
       "4     Premium Economy Seating on Singapore Airlines ...   \n",
       "...                                                 ...   \n",
       "9948  First part done with Singapore Airlines - acce...   \n",
       "9949  And again a great Flight with Singapore Air. G...   \n",
       "9950  We flew business class from Frankfurt, via Sin...   \n",
       "9951  As always, the A380 aircraft was spotlessly pr...   \n",
       "9952  As always, Singapore Airlines has done it agai...   \n",
       "\n",
       "                                  processed_full_review  \n",
       "0     use airline go singapore london heathrow issue...  \n",
       "1            service suite class make one feel like vip  \n",
       "2     book paid receive email confirmation extra leg...  \n",
       "3     best airline world seat food service brilliant...  \n",
       "4     premium economy seat singapore airline narrow ...  \n",
       "...                                                 ...  \n",
       "9948  first part do singapore airline acceptable com...  \n",
       "9949  great flight singapore air great unique servic...  \n",
       "9950  fly business class frankfurt via singapore bri...  \n",
       "9951  always a380 aircraft spotlessly present board ...  \n",
       "9952  always singapore airline do red-eye flight sec...  \n",
       "\n",
       "[9953 rows x 7 columns]"
      ]
     },
     "execution_count": 29,
     "metadata": {},
     "output_type": "execute_result"
    }
   ],
   "source": [
    "# Enable tqdm for pandas (progress bar)\n",
    "tqdm.pandas(desc=\"Processing Reviews\")\n",
    "\n",
    "# Apply process_full_review function with tqdm progress bar and expand the results into a\n",
    "data['processed_full_review'] = data['full_review'].progress_apply(process_full_review)\n",
    "\n",
    "data"
   ]
  },
  {
   "cell_type": "markdown",
   "metadata": {},
   "source": [
    "### Mapping ratings to sentiment labels"
   ]
  },
  {
   "cell_type": "code",
   "execution_count": 30,
   "metadata": {},
   "outputs": [
    {
     "name": "stdout",
     "output_type": "stream",
     "text": [
      "sentiment\n",
      "Positive    7376\n",
      "Negative    1577\n",
      "Neutral     1000\n",
      "Name: count, dtype: int64\n"
     ]
    }
   ],
   "source": [
    "# Function to map ratings to sentiment\n",
    "def rating_to_sentiment(rating):\n",
    "    if rating <= 2:\n",
    "        return 'Negative'\n",
    "    elif rating == 3:\n",
    "        return 'Neutral'\n",
    "    else:\n",
    "        return 'Positive'\n",
    "\n",
    "# Apply the function to the 'rating' column\n",
    "data['sentiment'] = data['rating'].apply(rating_to_sentiment)\n",
    "\n",
    "# Check the sentiment distribution\n",
    "print(data['sentiment'].value_counts())"
   ]
  },
  {
   "cell_type": "markdown",
   "metadata": {},
   "source": [
    "# Feature Selection\n",
    "Now, we select the final features to use for our sentiment analysis of airline reviews. \n",
    "- `processed_full_review`,`processed_review_length`, `sentiment`,`year`,`month`\n",
    "\n",
    "- Columns excluded: [`published_platform`,`type`,`helpful_votes`,`language`,`review_length`,`day`,`day_of_week`,`year_month`]\n",
    "\n",
    "- Create a new DataFrame (`data_final`) by selecting the specifc columns mentioned above from the original DataFrame `data`."
   ]
  },
  {
   "cell_type": "code",
   "execution_count": 31,
   "metadata": {},
   "outputs": [
    {
     "data": {
      "text/html": [
       "<div>\n",
       "<style scoped>\n",
       "    .dataframe tbody tr th:only-of-type {\n",
       "        vertical-align: middle;\n",
       "    }\n",
       "\n",
       "    .dataframe tbody tr th {\n",
       "        vertical-align: top;\n",
       "    }\n",
       "\n",
       "    .dataframe thead th {\n",
       "        text-align: right;\n",
       "    }\n",
       "</style>\n",
       "<table border=\"1\" class=\"dataframe\">\n",
       "  <thead>\n",
       "    <tr style=\"text-align: right;\">\n",
       "      <th></th>\n",
       "      <th>processed_full_review</th>\n",
       "      <th>sentiment</th>\n",
       "    </tr>\n",
       "  </thead>\n",
       "  <tbody>\n",
       "    <tr>\n",
       "      <th>0</th>\n",
       "      <td>use airline go singapore london heathrow issue...</td>\n",
       "      <td>Neutral</td>\n",
       "    </tr>\n",
       "    <tr>\n",
       "      <th>1</th>\n",
       "      <td>service suite class make one feel like vip</td>\n",
       "      <td>Positive</td>\n",
       "    </tr>\n",
       "    <tr>\n",
       "      <th>2</th>\n",
       "      <td>book paid receive email confirmation extra leg...</td>\n",
       "      <td>Negative</td>\n",
       "    </tr>\n",
       "    <tr>\n",
       "      <th>3</th>\n",
       "      <td>best airline world seat food service brilliant...</td>\n",
       "      <td>Positive</td>\n",
       "    </tr>\n",
       "    <tr>\n",
       "      <th>4</th>\n",
       "      <td>premium economy seat singapore airline narrow ...</td>\n",
       "      <td>Negative</td>\n",
       "    </tr>\n",
       "  </tbody>\n",
       "</table>\n",
       "</div>"
      ],
      "text/plain": [
       "                               processed_full_review sentiment\n",
       "0  use airline go singapore london heathrow issue...   Neutral\n",
       "1         service suite class make one feel like vip  Positive\n",
       "2  book paid receive email confirmation extra leg...  Negative\n",
       "3  best airline world seat food service brilliant...  Positive\n",
       "4  premium economy seat singapore airline narrow ...  Negative"
      ]
     },
     "execution_count": 31,
     "metadata": {},
     "output_type": "execute_result"
    }
   ],
   "source": [
    "data_final = data[['processed_full_review','sentiment']]\n",
    "data_final.head()"
   ]
  },
  {
   "cell_type": "markdown",
   "metadata": {},
   "source": [
    "# Multinomial NB with TF-IDF"
   ]
  },
  {
   "cell_type": "code",
   "execution_count": 32,
   "metadata": {},
   "outputs": [
    {
     "name": "stdout",
     "output_type": "stream",
     "text": [
      "0.8345612860013396\n",
      "              precision    recall  f1-score   support\n",
      "\n",
      "    Negative       0.88      0.64      0.74       480\n",
      "     Neutral       0.38      0.04      0.07       311\n",
      "    Positive       0.83      0.99      0.91      2195\n",
      "\n",
      "    accuracy                           0.83      2986\n",
      "   macro avg       0.70      0.56      0.57      2986\n",
      "weighted avg       0.79      0.83      0.79      2986\n",
      "\n"
     ]
    }
   ],
   "source": [
    "from sklearn.feature_extraction.text import TfidfVectorizer\n",
    "from sklearn.model_selection import train_test_split\n",
    "from sklearn.naive_bayes import MultinomialNB\n",
    "from sklearn.metrics import accuracy_score, classification_report\n",
    "\n",
    "tfidf_vectorizer = TfidfVectorizer(max_features=1000)\n",
    "tfidf_matrix = tfidf_vectorizer.fit_transform(data['processed_full_review'])\n",
    "\n",
    "X_train, X_test, y_train, y_test = train_test_split(tfidf_matrix, data['sentiment'],test_size=0.3, random_state=42)\n",
    "\n",
    "nb_model = MultinomialNB()\n",
    "nb_model.fit(X_train,y_train)\n",
    "\n",
    "nb_predictions = nb_model.predict(X_test)\n",
    "\n",
    "print(\"NB Accuracy:\", accuracy_score(y_test,nb_predictions))\n",
    "print(\"NB Classification Report\", classification_report(y_test, nb_predictions))"
   ]
  },
  {
   "cell_type": "markdown",
   "metadata": {},
   "source": [
    "# RF with TF-IDF"
   ]
  },
  {
   "cell_type": "code",
   "execution_count": 33,
   "metadata": {},
   "outputs": [
    {
     "name": "stdout",
     "output_type": "stream",
     "text": [
      "Random Forest Accuracy: 0.8359008707300737\n",
      "Random Forest Classification Report:\n",
      "               precision    recall  f1-score   support\n",
      "\n",
      "    Negative       0.79      0.68      0.73       480\n",
      "     Neutral       0.50      0.02      0.04       311\n",
      "    Positive       0.85      0.99      0.91      2195\n",
      "\n",
      "    accuracy                           0.84      2986\n",
      "   macro avg       0.71      0.56      0.56      2986\n",
      "weighted avg       0.80      0.84      0.79      2986\n",
      "\n"
     ]
    }
   ],
   "source": [
    "from sklearn.ensemble import RandomForestClassifier\n",
    "\n",
    "rf_model = RandomForestClassifier(n_estimators=100, random_state=42)\n",
    "rf_model.fit(X_train, y_train)\n",
    "\n",
    "rf_predictions = rf_model.predict(X_test)\n",
    "print(\"Random Forest Accuracy:\", accuracy_score(y_test, rf_predictions))\n",
    "print(\"Random Forest Classification Report:\\n\", classification_report(y_test, rf_predictions))"
   ]
  },
  {
   "cell_type": "markdown",
   "metadata": {},
   "source": [
    "# Log Regression with TF-IDF"
   ]
  },
  {
   "cell_type": "code",
   "execution_count": 34,
   "metadata": {},
   "outputs": [
    {
     "name": "stdout",
     "output_type": "stream",
     "text": [
      "Accuracy: 0.8640321500334897\n",
      "Classification Report:\n",
      "               precision    recall  f1-score   support\n",
      "\n",
      "    Negative       0.79      0.76      0.78       480\n",
      "     Neutral       0.52      0.22      0.31       311\n",
      "    Positive       0.90      0.98      0.94      2195\n",
      "\n",
      "    accuracy                           0.86      2986\n",
      "   macro avg       0.74      0.65      0.67      2986\n",
      "weighted avg       0.84      0.86      0.84      2986\n",
      "\n"
     ]
    }
   ],
   "source": [
    "from sklearn.linear_model import LogisticRegression\n",
    "\n",
    "clf = LogisticRegression(random_state=42).fit(X_train, y_train)\n",
    "clf_predictions = clf.predict(X_test)\n",
    "print(\"Log Regression Accuracy:\", accuracy_score(y_test, clf_predictions))\n",
    "print(\"Log Regression Classification Report:\\n\", classification_report(y_test, clf_predictions))"
   ]
  }
 ],
 "metadata": {
  "kernelspec": {
   "display_name": "Python 3",
   "language": "python",
   "name": "python3"
  },
  "language_info": {
   "codemirror_mode": {
    "name": "ipython",
    "version": 3
   },
   "file_extension": ".py",
   "mimetype": "text/x-python",
   "name": "python",
   "nbconvert_exporter": "python",
   "pygments_lexer": "ipython3",
   "version": "3.12.1"
  }
 },
 "nbformat": 4,
 "nbformat_minor": 2
}
