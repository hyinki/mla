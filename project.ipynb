{
 "cells": [
  {
   "cell_type": "markdown",
   "metadata": {},
   "source": [
    "# Enhancing Airline Service Through Automated Sentiment Analysis of Customer Reviews\n",
    "\n"
   ]
  },
  {
   "cell_type": "markdown",
   "metadata": {},
   "source": [
    "### Import Libraries"
   ]
  },
  {
   "cell_type": "code",
   "execution_count": 83,
   "metadata": {},
   "outputs": [],
   "source": [
    "import pandas as pd\n",
    "import numpy as np\n",
    "import matplotlib.pyplot as plt\n",
    "import seaborn as sns\n"
   ]
  },
  {
   "cell_type": "markdown",
   "metadata": {},
   "source": [
    "### Data Preparation (Loading CSV)"
   ]
  },
  {
   "cell_type": "code",
   "execution_count": 84,
   "metadata": {},
   "outputs": [],
   "source": [
    "data = pd.read_csv('data.csv')"
   ]
  },
  {
   "cell_type": "code",
   "execution_count": 85,
   "metadata": {},
   "outputs": [
    {
     "name": "stdout",
     "output_type": "stream",
     "text": [
      "<class 'pandas.core.frame.DataFrame'>\n",
      "RangeIndex: 23171 entries, 0 to 23170\n",
      "Data columns (total 20 columns):\n",
      " #   Column                  Non-Null Count  Dtype  \n",
      "---  ------                  --------------  -----  \n",
      " 0   Unnamed: 0              23171 non-null  int64  \n",
      " 1   Airline Name            23171 non-null  object \n",
      " 2   Overall_Rating          23171 non-null  object \n",
      " 3   Review_Title            23171 non-null  object \n",
      " 4   Review Date             23171 non-null  object \n",
      " 5   Verified                23171 non-null  bool   \n",
      " 6   Review                  23171 non-null  object \n",
      " 7   Aircraft                7129 non-null   object \n",
      " 8   Type Of Traveller       19433 non-null  object \n",
      " 9   Seat Type               22075 non-null  object \n",
      " 10  Route                   19343 non-null  object \n",
      " 11  Date Flown              19417 non-null  object \n",
      " 12  Seat Comfort            19016 non-null  float64\n",
      " 13  Cabin Staff Service     18911 non-null  float64\n",
      " 14  Food & Beverages        14500 non-null  float64\n",
      " 15  Ground Service          18378 non-null  float64\n",
      " 16  Inflight Entertainment  10829 non-null  float64\n",
      " 17  Wifi & Connectivity     5920 non-null   float64\n",
      " 18  Value For Money         22105 non-null  float64\n",
      " 19  Recommended             23171 non-null  object \n",
      "dtypes: bool(1), float64(7), int64(1), object(11)\n",
      "memory usage: 3.4+ MB\n"
     ]
    },
    {
     "data": {
      "text/plain": [
       "(23171, 20)"
      ]
     },
     "execution_count": 85,
     "metadata": {},
     "output_type": "execute_result"
    }
   ],
   "source": [
    "data.info()\n",
    "data.shape"
   ]
  },
  {
   "cell_type": "code",
   "execution_count": 86,
   "metadata": {},
   "outputs": [
    {
     "data": {
      "text/html": [
       "<div>\n",
       "<style scoped>\n",
       "    .dataframe tbody tr th:only-of-type {\n",
       "        vertical-align: middle;\n",
       "    }\n",
       "\n",
       "    .dataframe tbody tr th {\n",
       "        vertical-align: top;\n",
       "    }\n",
       "\n",
       "    .dataframe thead th {\n",
       "        text-align: right;\n",
       "    }\n",
       "</style>\n",
       "<table border=\"1\" class=\"dataframe\">\n",
       "  <thead>\n",
       "    <tr style=\"text-align: right;\">\n",
       "      <th></th>\n",
       "      <th>Unnamed: 0</th>\n",
       "      <th>Airline Name</th>\n",
       "      <th>Overall_Rating</th>\n",
       "      <th>Review_Title</th>\n",
       "      <th>Review Date</th>\n",
       "      <th>Verified</th>\n",
       "      <th>Review</th>\n",
       "      <th>Aircraft</th>\n",
       "      <th>Type Of Traveller</th>\n",
       "      <th>Seat Type</th>\n",
       "      <th>Route</th>\n",
       "      <th>Date Flown</th>\n",
       "      <th>Seat Comfort</th>\n",
       "      <th>Cabin Staff Service</th>\n",
       "      <th>Food &amp; Beverages</th>\n",
       "      <th>Ground Service</th>\n",
       "      <th>Inflight Entertainment</th>\n",
       "      <th>Wifi &amp; Connectivity</th>\n",
       "      <th>Value For Money</th>\n",
       "      <th>Recommended</th>\n",
       "    </tr>\n",
       "  </thead>\n",
       "  <tbody>\n",
       "    <tr>\n",
       "      <th>0</th>\n",
       "      <td>0</td>\n",
       "      <td>AB Aviation</td>\n",
       "      <td>9</td>\n",
       "      <td>\"pretty decent airline\"</td>\n",
       "      <td>11th November 2019</td>\n",
       "      <td>True</td>\n",
       "      <td>Moroni to Moheli. Turned out to be a pretty ...</td>\n",
       "      <td>NaN</td>\n",
       "      <td>Solo Leisure</td>\n",
       "      <td>Economy Class</td>\n",
       "      <td>Moroni to Moheli</td>\n",
       "      <td>November 2019</td>\n",
       "      <td>4.0</td>\n",
       "      <td>5.0</td>\n",
       "      <td>4.0</td>\n",
       "      <td>4.0</td>\n",
       "      <td>NaN</td>\n",
       "      <td>NaN</td>\n",
       "      <td>3.0</td>\n",
       "      <td>yes</td>\n",
       "    </tr>\n",
       "    <tr>\n",
       "      <th>1</th>\n",
       "      <td>1</td>\n",
       "      <td>AB Aviation</td>\n",
       "      <td>1</td>\n",
       "      <td>\"Not a good airline\"</td>\n",
       "      <td>25th June 2019</td>\n",
       "      <td>True</td>\n",
       "      <td>Moroni to Anjouan. It is a very small airline...</td>\n",
       "      <td>E120</td>\n",
       "      <td>Solo Leisure</td>\n",
       "      <td>Economy Class</td>\n",
       "      <td>Moroni to Anjouan</td>\n",
       "      <td>June 2019</td>\n",
       "      <td>2.0</td>\n",
       "      <td>2.0</td>\n",
       "      <td>1.0</td>\n",
       "      <td>1.0</td>\n",
       "      <td>NaN</td>\n",
       "      <td>NaN</td>\n",
       "      <td>2.0</td>\n",
       "      <td>no</td>\n",
       "    </tr>\n",
       "    <tr>\n",
       "      <th>2</th>\n",
       "      <td>2</td>\n",
       "      <td>AB Aviation</td>\n",
       "      <td>1</td>\n",
       "      <td>\"flight was fortunately short\"</td>\n",
       "      <td>25th June 2019</td>\n",
       "      <td>True</td>\n",
       "      <td>Anjouan to Dzaoudzi. A very small airline an...</td>\n",
       "      <td>Embraer E120</td>\n",
       "      <td>Solo Leisure</td>\n",
       "      <td>Economy Class</td>\n",
       "      <td>Anjouan to Dzaoudzi</td>\n",
       "      <td>June 2019</td>\n",
       "      <td>2.0</td>\n",
       "      <td>1.0</td>\n",
       "      <td>1.0</td>\n",
       "      <td>1.0</td>\n",
       "      <td>NaN</td>\n",
       "      <td>NaN</td>\n",
       "      <td>2.0</td>\n",
       "      <td>no</td>\n",
       "    </tr>\n",
       "    <tr>\n",
       "      <th>3</th>\n",
       "      <td>3</td>\n",
       "      <td>Adria Airways</td>\n",
       "      <td>1</td>\n",
       "      <td>\"I will never fly again with Adria\"</td>\n",
       "      <td>28th September 2019</td>\n",
       "      <td>False</td>\n",
       "      <td>Please do a favor yourself and do not fly wi...</td>\n",
       "      <td>NaN</td>\n",
       "      <td>Solo Leisure</td>\n",
       "      <td>Economy Class</td>\n",
       "      <td>Frankfurt to Pristina</td>\n",
       "      <td>September 2019</td>\n",
       "      <td>1.0</td>\n",
       "      <td>1.0</td>\n",
       "      <td>NaN</td>\n",
       "      <td>1.0</td>\n",
       "      <td>NaN</td>\n",
       "      <td>NaN</td>\n",
       "      <td>1.0</td>\n",
       "      <td>no</td>\n",
       "    </tr>\n",
       "    <tr>\n",
       "      <th>4</th>\n",
       "      <td>4</td>\n",
       "      <td>Adria Airways</td>\n",
       "      <td>1</td>\n",
       "      <td>\"it ruined our last days of holidays\"</td>\n",
       "      <td>24th September 2019</td>\n",
       "      <td>True</td>\n",
       "      <td>Do not book a flight with this airline! My fr...</td>\n",
       "      <td>NaN</td>\n",
       "      <td>Couple Leisure</td>\n",
       "      <td>Economy Class</td>\n",
       "      <td>Sofia to Amsterdam via Ljubljana</td>\n",
       "      <td>September 2019</td>\n",
       "      <td>1.0</td>\n",
       "      <td>1.0</td>\n",
       "      <td>1.0</td>\n",
       "      <td>1.0</td>\n",
       "      <td>1.0</td>\n",
       "      <td>1.0</td>\n",
       "      <td>1.0</td>\n",
       "      <td>no</td>\n",
       "    </tr>\n",
       "  </tbody>\n",
       "</table>\n",
       "</div>"
      ],
      "text/plain": [
       "   Unnamed: 0   Airline Name Overall_Rating  \\\n",
       "0           0    AB Aviation              9   \n",
       "1           1    AB Aviation              1   \n",
       "2           2    AB Aviation              1   \n",
       "3           3  Adria Airways              1   \n",
       "4           4  Adria Airways              1   \n",
       "\n",
       "                            Review_Title          Review Date  Verified  \\\n",
       "0                \"pretty decent airline\"   11th November 2019      True   \n",
       "1                   \"Not a good airline\"       25th June 2019      True   \n",
       "2         \"flight was fortunately short\"       25th June 2019      True   \n",
       "3    \"I will never fly again with Adria\"  28th September 2019     False   \n",
       "4  \"it ruined our last days of holidays\"  24th September 2019      True   \n",
       "\n",
       "                                              Review       Aircraft  \\\n",
       "0    Moroni to Moheli. Turned out to be a pretty ...            NaN   \n",
       "1   Moroni to Anjouan. It is a very small airline...           E120   \n",
       "2    Anjouan to Dzaoudzi. A very small airline an...  Embraer E120    \n",
       "3    Please do a favor yourself and do not fly wi...            NaN   \n",
       "4   Do not book a flight with this airline! My fr...            NaN   \n",
       "\n",
       "  Type Of Traveller      Seat Type                             Route  \\\n",
       "0      Solo Leisure  Economy Class                  Moroni to Moheli   \n",
       "1      Solo Leisure  Economy Class                 Moroni to Anjouan   \n",
       "2      Solo Leisure  Economy Class               Anjouan to Dzaoudzi   \n",
       "3      Solo Leisure  Economy Class             Frankfurt to Pristina   \n",
       "4    Couple Leisure  Economy Class  Sofia to Amsterdam via Ljubljana   \n",
       "\n",
       "       Date Flown  Seat Comfort  Cabin Staff Service  Food & Beverages  \\\n",
       "0   November 2019           4.0                  5.0               4.0   \n",
       "1       June 2019           2.0                  2.0               1.0   \n",
       "2       June 2019           2.0                  1.0               1.0   \n",
       "3  September 2019           1.0                  1.0               NaN   \n",
       "4  September 2019           1.0                  1.0               1.0   \n",
       "\n",
       "   Ground Service  Inflight Entertainment  Wifi & Connectivity  \\\n",
       "0             4.0                     NaN                  NaN   \n",
       "1             1.0                     NaN                  NaN   \n",
       "2             1.0                     NaN                  NaN   \n",
       "3             1.0                     NaN                  NaN   \n",
       "4             1.0                     1.0                  1.0   \n",
       "\n",
       "   Value For Money Recommended  \n",
       "0              3.0         yes  \n",
       "1              2.0          no  \n",
       "2              2.0          no  \n",
       "3              1.0          no  \n",
       "4              1.0          no  "
      ]
     },
     "execution_count": 86,
     "metadata": {},
     "output_type": "execute_result"
    }
   ],
   "source": [
    "data.head()"
   ]
  },
  {
   "cell_type": "markdown",
   "metadata": {},
   "source": [
    "### Data Cleaning"
   ]
  },
  {
   "cell_type": "code",
   "execution_count": 87,
   "metadata": {},
   "outputs": [
    {
     "name": "stdout",
     "output_type": "stream",
     "text": [
      "<class 'pandas.core.frame.DataFrame'>\n",
      "RangeIndex: 23171 entries, 0 to 23170\n",
      "Data columns (total 8 columns):\n",
      " #   Column             Non-Null Count  Dtype \n",
      "---  ------             --------------  ----- \n",
      " 0   Airline Name       23171 non-null  object\n",
      " 1   Overall_Rating     23171 non-null  object\n",
      " 2   Review_Title       23171 non-null  object\n",
      " 3   Review Date        23171 non-null  object\n",
      " 4   Recommended        23171 non-null  object\n",
      " 5   Review             23171 non-null  object\n",
      " 6   Type Of Traveller  19433 non-null  object\n",
      " 7   Seat Type          22075 non-null  object\n",
      "dtypes: object(8)\n",
      "memory usage: 1.4+ MB\n"
     ]
    },
    {
     "data": {
      "text/plain": [
       "(None,\n",
       "     Airline Name Overall_Rating                           Review_Title  \\\n",
       " 0    AB Aviation              9                \"pretty decent airline\"   \n",
       " 1    AB Aviation              1                   \"Not a good airline\"   \n",
       " 2    AB Aviation              1         \"flight was fortunately short\"   \n",
       " 3  Adria Airways              1    \"I will never fly again with Adria\"   \n",
       " 4  Adria Airways              1  \"it ruined our last days of holidays\"   \n",
       " \n",
       "            Review Date Recommended  \\\n",
       " 0   11th November 2019         yes   \n",
       " 1       25th June 2019          no   \n",
       " 2       25th June 2019          no   \n",
       " 3  28th September 2019          no   \n",
       " 4  24th September 2019          no   \n",
       " \n",
       "                                               Review Type Of Traveller  \\\n",
       " 0    Moroni to Moheli. Turned out to be a pretty ...      Solo Leisure   \n",
       " 1   Moroni to Anjouan. It is a very small airline...      Solo Leisure   \n",
       " 2    Anjouan to Dzaoudzi. A very small airline an...      Solo Leisure   \n",
       " 3    Please do a favor yourself and do not fly wi...      Solo Leisure   \n",
       " 4   Do not book a flight with this airline! My fr...    Couple Leisure   \n",
       " \n",
       "        Seat Type  \n",
       " 0  Economy Class  \n",
       " 1  Economy Class  \n",
       " 2  Economy Class  \n",
       " 3  Economy Class  \n",
       " 4  Economy Class  )"
      ]
     },
     "execution_count": 87,
     "metadata": {},
     "output_type": "execute_result"
    }
   ],
   "source": [
    "# Selecting the relevant features for sentiment analysis \n",
    "columns_to_keep = [\n",
    "    'Airline Name', 'Overall_Rating', 'Review_Title', 'Review Date', \n",
    "    'Recommended', 'Review', 'Type Of Traveller', 'Seat Type'\n",
    "]\n",
    "\n",
    "# Dropping the unnecessary columns\n",
    "df_cleaned = data[columns_to_keep].copy()\n",
    "\n",
    "# Display the cleaned dataframe information and first few rows\n",
    "df_cleaned.info(),df_cleaned.head()"
   ]
  },
  {
   "cell_type": "code",
   "execution_count": 88,
   "metadata": {},
   "outputs": [
    {
     "name": "stdout",
     "output_type": "stream",
     "text": [
      "['9' '1' '8' '2' '3' '5' '6' '7' '4' 'n']\n"
     ]
    },
    {
     "data": {
      "text/plain": [
       "842"
      ]
     },
     "execution_count": 88,
     "metadata": {},
     "output_type": "execute_result"
    }
   ],
   "source": [
    "# Convert Overall_Rating to numeric \n",
    "unique_ratings = df_cleaned['Overall_Rating'].unique()\n",
    "print(unique_ratings)\n",
    "\n",
    "# Step 2: Convert 'Overall_Rating' to numeric and handle non-numeric values (errors='coerce' converts non-numeric values to NaN)\n",
    "df_cleaned['Overall_Rating'] = pd.to_numeric(df_cleaned['Overall_Rating'], errors='coerce')\n",
    "\n",
    "# Check how many missing values were introduced in 'Overall_Rating'\n",
    "df_cleaned['Overall_Rating'].isnull().sum()\n"
   ]
  },
  {
   "cell_type": "code",
   "execution_count": 89,
   "metadata": {},
   "outputs": [
    {
     "name": "stdout",
     "output_type": "stream",
     "text": [
      "(22329, 8)\n",
      "<class 'pandas.core.frame.DataFrame'>\n",
      "Index: 22329 entries, 0 to 23170\n",
      "Data columns (total 8 columns):\n",
      " #   Column             Non-Null Count  Dtype  \n",
      "---  ------             --------------  -----  \n",
      " 0   Airline Name       22329 non-null  object \n",
      " 1   Overall_Rating     22329 non-null  float64\n",
      " 2   Review_Title       22329 non-null  object \n",
      " 3   Review Date        22329 non-null  object \n",
      " 4   Recommended        22329 non-null  object \n",
      " 5   Review             22329 non-null  object \n",
      " 6   Type Of Traveller  19433 non-null  object \n",
      " 7   Seat Type          21761 non-null  object \n",
      "dtypes: float64(1), object(7)\n",
      "memory usage: 1.5+ MB\n",
      "None\n"
     ]
    }
   ],
   "source": [
    "# Remove rows with missing 'Overall_Rating' values\n",
    "df_cleaned = df_cleaned.dropna(subset=['Overall_Rating'])\n",
    "\n",
    "# Display the shape and the first few rows of the cleaned dataframe\n",
    "print(df_cleaned.shape)\n",
    "print(df_cleaned.info())"
   ]
  },
  {
   "cell_type": "code",
   "execution_count": 90,
   "metadata": {},
   "outputs": [
    {
     "name": "stdout",
     "output_type": "stream",
     "text": [
      "<class 'pandas.core.frame.DataFrame'>\n",
      "Index: 22329 entries, 0 to 23170\n",
      "Data columns (total 8 columns):\n",
      " #   Column             Non-Null Count  Dtype  \n",
      "---  ------             --------------  -----  \n",
      " 0   Airline Name       22329 non-null  object \n",
      " 1   Overall_Rating     22329 non-null  float64\n",
      " 2   Review_Title       22329 non-null  object \n",
      " 3   Review Date        22329 non-null  object \n",
      " 4   Recommended        22329 non-null  int64  \n",
      " 5   Review             22329 non-null  object \n",
      " 6   Type Of Traveller  22329 non-null  object \n",
      " 7   Seat Type          22329 non-null  object \n",
      "dtypes: float64(1), int64(1), object(6)\n",
      "memory usage: 1.5+ MB\n"
     ]
    },
    {
     "data": {
      "text/plain": [
       "(None,\n",
       "     Airline Name  Overall_Rating                           Review_Title  \\\n",
       " 0    AB Aviation             9.0                \"pretty decent airline\"   \n",
       " 1    AB Aviation             1.0                   \"Not a good airline\"   \n",
       " 2    AB Aviation             1.0         \"flight was fortunately short\"   \n",
       " 3  Adria Airways             1.0    \"I will never fly again with Adria\"   \n",
       " 4  Adria Airways             1.0  \"it ruined our last days of holidays\"   \n",
       " \n",
       "            Review Date  Recommended  \\\n",
       " 0   11th November 2019            1   \n",
       " 1       25th June 2019            0   \n",
       " 2       25th June 2019            0   \n",
       " 3  28th September 2019            0   \n",
       " 4  24th September 2019            0   \n",
       " \n",
       "                                               Review Type Of Traveller  \\\n",
       " 0    Moroni to Moheli. Turned out to be a pretty ...      Solo Leisure   \n",
       " 1   Moroni to Anjouan. It is a very small airline...      Solo Leisure   \n",
       " 2    Anjouan to Dzaoudzi. A very small airline an...      Solo Leisure   \n",
       " 3    Please do a favor yourself and do not fly wi...      Solo Leisure   \n",
       " 4   Do not book a flight with this airline! My fr...    Couple Leisure   \n",
       " \n",
       "        Seat Type  \n",
       " 0  Economy Class  \n",
       " 1  Economy Class  \n",
       " 2  Economy Class  \n",
       " 3  Economy Class  \n",
       " 4  Economy Class  )"
      ]
     },
     "execution_count": 90,
     "metadata": {},
     "output_type": "execute_result"
    }
   ],
   "source": [
    "# Label encode 'Recommended' as binary values\n",
    "df_cleaned['Recommended'] = df_cleaned['Recommended'].apply(lambda x: 1 if x.lower() == 'yes' else 0)\n",
    "\n",
    "# Handle missing values in 'Type Of Traveller' and 'Seat Type' by filling with 'Unknown'\n",
    "df_cleaned['Type Of Traveller'].fillna('Unknown', inplace=True)\n",
    "df_cleaned['Seat Type'].fillna('Unknown', inplace=True)\n",
    "\n",
    "# Display the final cleaned dataframe information and first few rows\n",
    "df_cleaned_info_final = df_cleaned.info()\n",
    "df_cleaned_head_final = df_cleaned.head()\n",
    "\n",
    "df_cleaned_info_final, df_cleaned_head_final\n"
   ]
  },
  {
   "cell_type": "code",
   "execution_count": 94,
   "metadata": {},
   "outputs": [
    {
     "data": {
      "text/plain": [
       "4214"
      ]
     },
     "execution_count": 94,
     "metadata": {},
     "output_type": "execute_result"
    }
   ],
   "source": [
    "df_cleaned['Review Date']"
   ]
  },
  {
   "cell_type": "markdown",
   "metadata": {},
   "source": [
    "### Exploratory Data Analysis"
   ]
  },
  {
   "cell_type": "markdown",
   "metadata": {},
   "source": [
    "#### Statistical Summary"
   ]
  },
  {
   "cell_type": "code",
   "execution_count": 48,
   "metadata": {},
   "outputs": [
    {
     "data": {
      "text/plain": [
       "Airline Name            0\n",
       "Overall_Rating          0\n",
       "Review_Title            0\n",
       "Review Date             0\n",
       "Recommended             0\n",
       "Review                  0\n",
       "Type Of Traveller    2896\n",
       "Seat Type             568\n",
       "dtype: int64"
      ]
     },
     "execution_count": 48,
     "metadata": {},
     "output_type": "execute_result"
    }
   ],
   "source": [
    "df_cleaned.shape\n",
    "df_cleaned.isnull().sum()"
   ]
  },
  {
   "cell_type": "code",
   "execution_count": 16,
   "metadata": {},
   "outputs": [
    {
     "name": "stdout",
     "output_type": "stream",
     "text": [
      "The unique number of data values are Unnamed: 0                23171\n",
      "Airline Name                497\n",
      "Overall_Rating               10\n",
      "Review_Title              17219\n",
      "Review Date                4557\n",
      "Verified                      2\n",
      "Review                    23046\n",
      "Aircraft                   1048\n",
      "Type Of Traveller             4\n",
      "Seat Type                     4\n",
      "Route                     13607\n",
      "Date Flown                  109\n",
      "Seat Comfort                  6\n",
      "Cabin Staff Service           6\n",
      "Food & Beverages              6\n",
      "Ground Service                5\n",
      "Inflight Entertainment        6\n",
      "Wifi & Connectivity           6\n",
      "Value For Money               6\n",
      "Recommended                   2\n",
      "dtype: int64\n"
     ]
    }
   ],
   "source": []
  },
  {
   "cell_type": "markdown",
   "metadata": {},
   "source": [
    "#### Class Distribution"
   ]
  },
  {
   "cell_type": "markdown",
   "metadata": {},
   "source": [
    "#### Distribution of Features"
   ]
  },
  {
   "cell_type": "markdown",
   "metadata": {},
   "source": [
    "#### Correlation Matrix\n"
   ]
  },
  {
   "cell_type": "markdown",
   "metadata": {},
   "source": [
    "#### Pairplot of Features\n"
   ]
  },
  {
   "cell_type": "markdown",
   "metadata": {},
   "source": []
  }
 ],
 "metadata": {
  "kernelspec": {
   "display_name": "py3-kernel",
   "language": "python",
   "name": "py3-kernel"
  },
  "language_info": {
   "codemirror_mode": {
    "name": "ipython",
    "version": 3
   },
   "file_extension": ".py",
   "mimetype": "text/x-python",
   "name": "python",
   "nbconvert_exporter": "python",
   "pygments_lexer": "ipython3",
   "version": "3.12.1"
  },
  "vscode": {
   "interpreter": {
    "hash": "58db4f79bc28761c38f9f5c6e52e153f2c347ffe6035785961f175959f6c1ad8"
   }
  }
 },
 "nbformat": 4,
 "nbformat_minor": 2
}
