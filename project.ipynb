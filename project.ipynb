{
 "cells": [
  {
   "cell_type": "markdown",
   "metadata": {},
   "source": [
    "# Enhancing Airline Service Through Automated Sentiment Analysis of Customer Reviews\n",
    "\n"
   ]
  },
  {
   "cell_type": "markdown",
   "metadata": {},
   "source": [
    "### Import Libraries"
   ]
  },
  {
   "cell_type": "code",
   "execution_count": 9,
   "metadata": {},
   "outputs": [],
   "source": [
    "import pandas as pd\n",
    "import numpy as np\n",
    "import matplotlib.pyplot as plt\n",
    "import seaborn as sns\n"
   ]
  },
  {
   "cell_type": "markdown",
   "metadata": {},
   "source": [
    "### Data Preparation (Loading CSV)"
   ]
  },
  {
   "cell_type": "code",
   "execution_count": 3,
   "metadata": {},
   "outputs": [],
   "source": [
    "data = pd.read_csv('data.csv')"
   ]
  },
  {
   "cell_type": "code",
   "execution_count": 4,
   "metadata": {},
   "outputs": [
    {
     "name": "stdout",
     "output_type": "stream",
     "text": [
      "<class 'pandas.core.frame.DataFrame'>\n",
      "RangeIndex: 23171 entries, 0 to 23170\n",
      "Data columns (total 20 columns):\n",
      " #   Column                  Non-Null Count  Dtype  \n",
      "---  ------                  --------------  -----  \n",
      " 0   Unnamed: 0              23171 non-null  int64  \n",
      " 1   Airline Name            23171 non-null  object \n",
      " 2   Overall_Rating          23171 non-null  object \n",
      " 3   Review_Title            23171 non-null  object \n",
      " 4   Review Date             23171 non-null  object \n",
      " 5   Verified                23171 non-null  bool   \n",
      " 6   Review                  23171 non-null  object \n",
      " 7   Aircraft                7129 non-null   object \n",
      " 8   Type Of Traveller       19433 non-null  object \n",
      " 9   Seat Type               22075 non-null  object \n",
      " 10  Route                   19343 non-null  object \n",
      " 11  Date Flown              19417 non-null  object \n",
      " 12  Seat Comfort            19016 non-null  float64\n",
      " 13  Cabin Staff Service     18911 non-null  float64\n",
      " 14  Food & Beverages        14500 non-null  float64\n",
      " 15  Ground Service          18378 non-null  float64\n",
      " 16  Inflight Entertainment  10829 non-null  float64\n",
      " 17  Wifi & Connectivity     5920 non-null   float64\n",
      " 18  Value For Money         22105 non-null  float64\n",
      " 19  Recommended             23171 non-null  object \n",
      "dtypes: bool(1), float64(7), int64(1), object(11)\n",
      "memory usage: 3.4+ MB\n"
     ]
    },
    {
     "data": {
      "text/plain": [
       "(23171, 20)"
      ]
     },
     "execution_count": 4,
     "metadata": {},
     "output_type": "execute_result"
    }
   ],
   "source": [
    "data.info()\n",
    "data.shape"
   ]
  },
  {
   "cell_type": "code",
   "execution_count": 6,
   "metadata": {},
   "outputs": [
    {
     "data": {
      "text/html": [
       "<div>\n",
       "<style scoped>\n",
       "    .dataframe tbody tr th:only-of-type {\n",
       "        vertical-align: middle;\n",
       "    }\n",
       "\n",
       "    .dataframe tbody tr th {\n",
       "        vertical-align: top;\n",
       "    }\n",
       "\n",
       "    .dataframe thead th {\n",
       "        text-align: right;\n",
       "    }\n",
       "</style>\n",
       "<table border=\"1\" class=\"dataframe\">\n",
       "  <thead>\n",
       "    <tr style=\"text-align: right;\">\n",
       "      <th></th>\n",
       "      <th>Unnamed: 0</th>\n",
       "      <th>Airline Name</th>\n",
       "      <th>Overall_Rating</th>\n",
       "      <th>Review_Title</th>\n",
       "      <th>Review Date</th>\n",
       "      <th>Verified</th>\n",
       "      <th>Review</th>\n",
       "      <th>Aircraft</th>\n",
       "      <th>Type Of Traveller</th>\n",
       "      <th>Seat Type</th>\n",
       "      <th>Route</th>\n",
       "      <th>Date Flown</th>\n",
       "      <th>Seat Comfort</th>\n",
       "      <th>Cabin Staff Service</th>\n",
       "      <th>Food &amp; Beverages</th>\n",
       "      <th>Ground Service</th>\n",
       "      <th>Inflight Entertainment</th>\n",
       "      <th>Wifi &amp; Connectivity</th>\n",
       "      <th>Value For Money</th>\n",
       "      <th>Recommended</th>\n",
       "    </tr>\n",
       "  </thead>\n",
       "  <tbody>\n",
       "    <tr>\n",
       "      <th>0</th>\n",
       "      <td>0</td>\n",
       "      <td>AB Aviation</td>\n",
       "      <td>9</td>\n",
       "      <td>\"pretty decent airline\"</td>\n",
       "      <td>11th November 2019</td>\n",
       "      <td>True</td>\n",
       "      <td>Moroni to Moheli. Turned out to be a pretty ...</td>\n",
       "      <td>NaN</td>\n",
       "      <td>Solo Leisure</td>\n",
       "      <td>Economy Class</td>\n",
       "      <td>Moroni to Moheli</td>\n",
       "      <td>November 2019</td>\n",
       "      <td>4.0</td>\n",
       "      <td>5.0</td>\n",
       "      <td>4.0</td>\n",
       "      <td>4.0</td>\n",
       "      <td>NaN</td>\n",
       "      <td>NaN</td>\n",
       "      <td>3.0</td>\n",
       "      <td>yes</td>\n",
       "    </tr>\n",
       "    <tr>\n",
       "      <th>1</th>\n",
       "      <td>1</td>\n",
       "      <td>AB Aviation</td>\n",
       "      <td>1</td>\n",
       "      <td>\"Not a good airline\"</td>\n",
       "      <td>25th June 2019</td>\n",
       "      <td>True</td>\n",
       "      <td>Moroni to Anjouan. It is a very small airline...</td>\n",
       "      <td>E120</td>\n",
       "      <td>Solo Leisure</td>\n",
       "      <td>Economy Class</td>\n",
       "      <td>Moroni to Anjouan</td>\n",
       "      <td>June 2019</td>\n",
       "      <td>2.0</td>\n",
       "      <td>2.0</td>\n",
       "      <td>1.0</td>\n",
       "      <td>1.0</td>\n",
       "      <td>NaN</td>\n",
       "      <td>NaN</td>\n",
       "      <td>2.0</td>\n",
       "      <td>no</td>\n",
       "    </tr>\n",
       "    <tr>\n",
       "      <th>2</th>\n",
       "      <td>2</td>\n",
       "      <td>AB Aviation</td>\n",
       "      <td>1</td>\n",
       "      <td>\"flight was fortunately short\"</td>\n",
       "      <td>25th June 2019</td>\n",
       "      <td>True</td>\n",
       "      <td>Anjouan to Dzaoudzi. A very small airline an...</td>\n",
       "      <td>Embraer E120</td>\n",
       "      <td>Solo Leisure</td>\n",
       "      <td>Economy Class</td>\n",
       "      <td>Anjouan to Dzaoudzi</td>\n",
       "      <td>June 2019</td>\n",
       "      <td>2.0</td>\n",
       "      <td>1.0</td>\n",
       "      <td>1.0</td>\n",
       "      <td>1.0</td>\n",
       "      <td>NaN</td>\n",
       "      <td>NaN</td>\n",
       "      <td>2.0</td>\n",
       "      <td>no</td>\n",
       "    </tr>\n",
       "    <tr>\n",
       "      <th>3</th>\n",
       "      <td>3</td>\n",
       "      <td>Adria Airways</td>\n",
       "      <td>1</td>\n",
       "      <td>\"I will never fly again with Adria\"</td>\n",
       "      <td>28th September 2019</td>\n",
       "      <td>False</td>\n",
       "      <td>Please do a favor yourself and do not fly wi...</td>\n",
       "      <td>NaN</td>\n",
       "      <td>Solo Leisure</td>\n",
       "      <td>Economy Class</td>\n",
       "      <td>Frankfurt to Pristina</td>\n",
       "      <td>September 2019</td>\n",
       "      <td>1.0</td>\n",
       "      <td>1.0</td>\n",
       "      <td>NaN</td>\n",
       "      <td>1.0</td>\n",
       "      <td>NaN</td>\n",
       "      <td>NaN</td>\n",
       "      <td>1.0</td>\n",
       "      <td>no</td>\n",
       "    </tr>\n",
       "    <tr>\n",
       "      <th>4</th>\n",
       "      <td>4</td>\n",
       "      <td>Adria Airways</td>\n",
       "      <td>1</td>\n",
       "      <td>\"it ruined our last days of holidays\"</td>\n",
       "      <td>24th September 2019</td>\n",
       "      <td>True</td>\n",
       "      <td>Do not book a flight with this airline! My fr...</td>\n",
       "      <td>NaN</td>\n",
       "      <td>Couple Leisure</td>\n",
       "      <td>Economy Class</td>\n",
       "      <td>Sofia to Amsterdam via Ljubljana</td>\n",
       "      <td>September 2019</td>\n",
       "      <td>1.0</td>\n",
       "      <td>1.0</td>\n",
       "      <td>1.0</td>\n",
       "      <td>1.0</td>\n",
       "      <td>1.0</td>\n",
       "      <td>1.0</td>\n",
       "      <td>1.0</td>\n",
       "      <td>no</td>\n",
       "    </tr>\n",
       "  </tbody>\n",
       "</table>\n",
       "</div>"
      ],
      "text/plain": [
       "   Unnamed: 0   Airline Name Overall_Rating  \\\n",
       "0           0    AB Aviation              9   \n",
       "1           1    AB Aviation              1   \n",
       "2           2    AB Aviation              1   \n",
       "3           3  Adria Airways              1   \n",
       "4           4  Adria Airways              1   \n",
       "\n",
       "                            Review_Title          Review Date  Verified  \\\n",
       "0                \"pretty decent airline\"   11th November 2019      True   \n",
       "1                   \"Not a good airline\"       25th June 2019      True   \n",
       "2         \"flight was fortunately short\"       25th June 2019      True   \n",
       "3    \"I will never fly again with Adria\"  28th September 2019     False   \n",
       "4  \"it ruined our last days of holidays\"  24th September 2019      True   \n",
       "\n",
       "                                              Review       Aircraft  \\\n",
       "0    Moroni to Moheli. Turned out to be a pretty ...            NaN   \n",
       "1   Moroni to Anjouan. It is a very small airline...           E120   \n",
       "2    Anjouan to Dzaoudzi. A very small airline an...  Embraer E120    \n",
       "3    Please do a favor yourself and do not fly wi...            NaN   \n",
       "4   Do not book a flight with this airline! My fr...            NaN   \n",
       "\n",
       "  Type Of Traveller      Seat Type                             Route  \\\n",
       "0      Solo Leisure  Economy Class                  Moroni to Moheli   \n",
       "1      Solo Leisure  Economy Class                 Moroni to Anjouan   \n",
       "2      Solo Leisure  Economy Class               Anjouan to Dzaoudzi   \n",
       "3      Solo Leisure  Economy Class             Frankfurt to Pristina   \n",
       "4    Couple Leisure  Economy Class  Sofia to Amsterdam via Ljubljana   \n",
       "\n",
       "       Date Flown  Seat Comfort  Cabin Staff Service  Food & Beverages  \\\n",
       "0   November 2019           4.0                  5.0               4.0   \n",
       "1       June 2019           2.0                  2.0               1.0   \n",
       "2       June 2019           2.0                  1.0               1.0   \n",
       "3  September 2019           1.0                  1.0               NaN   \n",
       "4  September 2019           1.0                  1.0               1.0   \n",
       "\n",
       "   Ground Service  Inflight Entertainment  Wifi & Connectivity  \\\n",
       "0             4.0                     NaN                  NaN   \n",
       "1             1.0                     NaN                  NaN   \n",
       "2             1.0                     NaN                  NaN   \n",
       "3             1.0                     NaN                  NaN   \n",
       "4             1.0                     1.0                  1.0   \n",
       "\n",
       "   Value For Money Recommended  \n",
       "0              3.0         yes  \n",
       "1              2.0          no  \n",
       "2              2.0          no  \n",
       "3              1.0          no  \n",
       "4              1.0          no  "
      ]
     },
     "execution_count": 6,
     "metadata": {},
     "output_type": "execute_result"
    }
   ],
   "source": [
    "data.head()"
   ]
  },
  {
   "cell_type": "markdown",
   "metadata": {},
   "source": [
    "### Data Cleaning"
   ]
  },
  {
   "cell_type": "code",
   "execution_count": 5,
   "metadata": {},
   "outputs": [
    {
     "name": "stdout",
     "output_type": "stream",
     "text": [
      "<class 'pandas.core.frame.DataFrame'>\n",
      "RangeIndex: 23171 entries, 0 to 23170\n",
      "Data columns (total 8 columns):\n",
      " #   Column             Non-Null Count  Dtype \n",
      "---  ------             --------------  ----- \n",
      " 0   Airline Name       23171 non-null  object\n",
      " 1   Overall_Rating     23171 non-null  object\n",
      " 2   Review_Title       23171 non-null  object\n",
      " 3   Review Date        23171 non-null  object\n",
      " 4   Recommended        23171 non-null  object\n",
      " 5   Review             23171 non-null  object\n",
      " 6   Type Of Traveller  19433 non-null  object\n",
      " 7   Seat Type          22075 non-null  object\n",
      "dtypes: object(8)\n",
      "memory usage: 1.4+ MB\n"
     ]
    },
    {
     "data": {
      "text/plain": [
       "(None,\n",
       "     Airline Name Overall_Rating                           Review_Title  \\\n",
       " 0    AB Aviation              9                \"pretty decent airline\"   \n",
       " 1    AB Aviation              1                   \"Not a good airline\"   \n",
       " 2    AB Aviation              1         \"flight was fortunately short\"   \n",
       " 3  Adria Airways              1    \"I will never fly again with Adria\"   \n",
       " 4  Adria Airways              1  \"it ruined our last days of holidays\"   \n",
       " \n",
       "            Review Date Recommended  \\\n",
       " 0   11th November 2019         yes   \n",
       " 1       25th June 2019          no   \n",
       " 2       25th June 2019          no   \n",
       " 3  28th September 2019          no   \n",
       " 4  24th September 2019          no   \n",
       " \n",
       "                                               Review Type Of Traveller  \\\n",
       " 0    Moroni to Moheli. Turned out to be a pretty ...      Solo Leisure   \n",
       " 1   Moroni to Anjouan. It is a very small airline...      Solo Leisure   \n",
       " 2    Anjouan to Dzaoudzi. A very small airline an...      Solo Leisure   \n",
       " 3    Please do a favor yourself and do not fly wi...      Solo Leisure   \n",
       " 4   Do not book a flight with this airline! My fr...    Couple Leisure   \n",
       " \n",
       "        Seat Type  \n",
       " 0  Economy Class  \n",
       " 1  Economy Class  \n",
       " 2  Economy Class  \n",
       " 3  Economy Class  \n",
       " 4  Economy Class  )"
      ]
     },
     "execution_count": 5,
     "metadata": {},
     "output_type": "execute_result"
    }
   ],
   "source": [
    "# Selecting the relevant features for sentiment analysis \n",
    "columns_to_keep = [\n",
    "    'Airline Name', 'Overall_Rating', 'Review_Title', 'Review Date', \n",
    "    'Recommended', 'Review', 'Type Of Traveller', 'Seat Type'\n",
    "]\n",
    "\n",
    "# Dropping the unnecessary columns\n",
    "df_cleaned = data[columns_to_keep].copy()\n",
    "\n",
    "# Display the cleaned dataframe information and first few rows\n",
    "df_cleaned.info(),df_cleaned.head()"
   ]
  },
  {
   "cell_type": "code",
   "execution_count": 6,
   "metadata": {},
   "outputs": [
    {
     "name": "stdout",
     "output_type": "stream",
     "text": [
      "                            Review_Title  \\\n",
      "0                \"pretty decent airline\"   \n",
      "1                   \"Not a good airline\"   \n",
      "2         \"flight was fortunately short\"   \n",
      "3    \"I will never fly again with Adria\"   \n",
      "4  \"it ruined our last days of holidays\"   \n",
      "\n",
      "                                              Review  \\\n",
      "0    Moroni to Moheli. Turned out to be a pretty ...   \n",
      "1   Moroni to Anjouan. It is a very small airline...   \n",
      "2    Anjouan to Dzaoudzi. A very small airline an...   \n",
      "3    Please do a favor yourself and do not fly wi...   \n",
      "4   Do not book a flight with this airline! My fr...   \n",
      "\n",
      "                                         Full_Review  \n",
      "0  \"pretty decent airline\"   Moroni to Moheli. Tu...  \n",
      "1  \"Not a good airline\"  Moroni to Anjouan. It is...  \n",
      "2  \"flight was fortunately short\"   Anjouan to Dz...  \n",
      "3  \"I will never fly again with Adria\"   Please d...  \n",
      "4  \"it ruined our last days of holidays\"  Do not ...  \n"
     ]
    }
   ],
   "source": [
    "# Fill NaN values in 'Review_Title' with an empty string\n",
    "df_cleaned['Review_Title'] = df_cleaned['Review_Title'].fillna('')\n",
    "\n",
    "# Combine 'Review_Title' and 'Review' into 'Full_Review'\n",
    "df_cleaned['Full_Review'] = df_cleaned['Review_Title'] + \" \" + df_cleaned['Review']\n",
    "\n",
    "# Strip any leading/trailing whitespace\n",
    "df_cleaned['Full_Review'] = df_cleaned['Full_Review'].str.strip()\n",
    "\n",
    "# Check if the column was added correctly by displaying the first few rows\n",
    "print(df_cleaned[['Review_Title', 'Review', 'Full_Review']].head())\n"
   ]
  },
  {
   "cell_type": "code",
   "execution_count": 8,
   "metadata": {},
   "outputs": [
    {
     "name": "stdout",
     "output_type": "stream",
     "text": [
      "<class 'pandas.core.frame.DataFrame'>\n",
      "RangeIndex: 23171 entries, 0 to 23170\n",
      "Data columns (total 9 columns):\n",
      " #   Column             Non-Null Count  Dtype \n",
      "---  ------             --------------  ----- \n",
      " 0   Airline Name       23171 non-null  object\n",
      " 1   Overall_Rating     23171 non-null  object\n",
      " 2   Review_Title       23171 non-null  object\n",
      " 3   Review Date        23171 non-null  object\n",
      " 4   Recommended        23171 non-null  object\n",
      " 5   Review             23171 non-null  object\n",
      " 6   Type Of Traveller  19433 non-null  object\n",
      " 7   Seat Type          22075 non-null  object\n",
      " 8   Full_Review        23171 non-null  object\n",
      "dtypes: object(9)\n",
      "memory usage: 1.6+ MB\n"
     ]
    },
    {
     "data": {
      "text/plain": [
       "(None,\n",
       "     Airline Name Overall_Rating                           Review_Title  \\\n",
       " 0    AB Aviation              9                \"pretty decent airline\"   \n",
       " 1    AB Aviation              1                   \"Not a good airline\"   \n",
       " 2    AB Aviation              1         \"flight was fortunately short\"   \n",
       " 3  Adria Airways              1    \"I will never fly again with Adria\"   \n",
       " 4  Adria Airways              1  \"it ruined our last days of holidays\"   \n",
       " \n",
       "            Review Date Recommended  \\\n",
       " 0   11th November 2019         yes   \n",
       " 1       25th June 2019          no   \n",
       " 2       25th June 2019          no   \n",
       " 3  28th September 2019          no   \n",
       " 4  24th September 2019          no   \n",
       " \n",
       "                                               Review Type Of Traveller  \\\n",
       " 0    Moroni to Moheli. Turned out to be a pretty ...      Solo Leisure   \n",
       " 1   Moroni to Anjouan. It is a very small airline...      Solo Leisure   \n",
       " 2    Anjouan to Dzaoudzi. A very small airline an...      Solo Leisure   \n",
       " 3    Please do a favor yourself and do not fly wi...      Solo Leisure   \n",
       " 4   Do not book a flight with this airline! My fr...    Couple Leisure   \n",
       " \n",
       "        Seat Type                                        Full_Review  \n",
       " 0  Economy Class  \"pretty decent airline\"   Moroni to Moheli. Tu...  \n",
       " 1  Economy Class  \"Not a good airline\"  Moroni to Anjouan. It is...  \n",
       " 2  Economy Class  \"flight was fortunately short\"   Anjouan to Dz...  \n",
       " 3  Economy Class  \"I will never fly again with Adria\"   Please d...  \n",
       " 4  Economy Class  \"it ruined our last days of holidays\"  Do not ...  )"
      ]
     },
     "execution_count": 8,
     "metadata": {},
     "output_type": "execute_result"
    }
   ],
   "source": [
    "df_cleaned.info(),df_cleaned.head()"
   ]
  },
  {
   "cell_type": "code",
   "execution_count": 10,
   "metadata": {},
   "outputs": [
    {
     "name": "stdout",
     "output_type": "stream",
     "text": [
      "['9' '1' '8' '2' '3' '5' '6' '7' '4' 'n']\n"
     ]
    },
    {
     "data": {
      "text/plain": [
       "842"
      ]
     },
     "execution_count": 10,
     "metadata": {},
     "output_type": "execute_result"
    }
   ],
   "source": [
    "# Convert Overall_Rating to numeric \n",
    "unique_ratings = df_cleaned['Overall_Rating'].unique()\n",
    "print(unique_ratings)\n",
    "\n",
    "# Step 2: Convert 'Overall_Rating' to numeric and handle non-numeric values (errors='coerce' converts non-numeric values to NaN)\n",
    "df_cleaned['Overall_Rating'] = pd.to_numeric(df_cleaned['Overall_Rating'], errors='coerce')\n",
    "\n",
    "# Check how many missing values were introduced in 'Overall_Rating'\n",
    "df_cleaned['Overall_Rating'].isnull().sum()\n"
   ]
  },
  {
   "cell_type": "code",
   "execution_count": 11,
   "metadata": {},
   "outputs": [
    {
     "name": "stdout",
     "output_type": "stream",
     "text": [
      "(22329, 9)\n",
      "<class 'pandas.core.frame.DataFrame'>\n",
      "Index: 22329 entries, 0 to 23170\n",
      "Data columns (total 9 columns):\n",
      " #   Column             Non-Null Count  Dtype  \n",
      "---  ------             --------------  -----  \n",
      " 0   Airline Name       22329 non-null  object \n",
      " 1   Overall_Rating     22329 non-null  float64\n",
      " 2   Review_Title       22329 non-null  object \n",
      " 3   Review Date        22329 non-null  object \n",
      " 4   Recommended        22329 non-null  object \n",
      " 5   Review             22329 non-null  object \n",
      " 6   Type Of Traveller  19433 non-null  object \n",
      " 7   Seat Type          21761 non-null  object \n",
      " 8   Full_Review        22329 non-null  object \n",
      "dtypes: float64(1), object(8)\n",
      "memory usage: 1.7+ MB\n",
      "None\n"
     ]
    }
   ],
   "source": [
    "# Remove rows with missing 'Overall_Rating' values\n",
    "df_cleaned = df_cleaned.dropna(subset=['Overall_Rating'])\n",
    "\n",
    "# Display the shape and info of the cleaned dataframe\n",
    "print(df_cleaned.shape)\n",
    "print(df_cleaned.info())"
   ]
  },
  {
   "cell_type": "code",
   "execution_count": 12,
   "metadata": {},
   "outputs": [
    {
     "data": {
      "text/html": [
       "<div>\n",
       "<style scoped>\n",
       "    .dataframe tbody tr th:only-of-type {\n",
       "        vertical-align: middle;\n",
       "    }\n",
       "\n",
       "    .dataframe tbody tr th {\n",
       "        vertical-align: top;\n",
       "    }\n",
       "\n",
       "    .dataframe thead th {\n",
       "        text-align: right;\n",
       "    }\n",
       "</style>\n",
       "<table border=\"1\" class=\"dataframe\">\n",
       "  <thead>\n",
       "    <tr style=\"text-align: right;\">\n",
       "      <th></th>\n",
       "      <th>Airline Name</th>\n",
       "      <th>Overall_Rating</th>\n",
       "      <th>Review_Title</th>\n",
       "      <th>Review Date</th>\n",
       "      <th>Recommended</th>\n",
       "      <th>Review</th>\n",
       "      <th>Type Of Traveller</th>\n",
       "      <th>Seat Type</th>\n",
       "      <th>Full_Review</th>\n",
       "    </tr>\n",
       "  </thead>\n",
       "  <tbody>\n",
       "    <tr>\n",
       "      <th>0</th>\n",
       "      <td>AB Aviation</td>\n",
       "      <td>9.0</td>\n",
       "      <td>\"pretty decent airline\"</td>\n",
       "      <td>11th November 2019</td>\n",
       "      <td>yes</td>\n",
       "      <td>Moroni to Moheli. Turned out to be a pretty ...</td>\n",
       "      <td>Solo Leisure</td>\n",
       "      <td>Economy Class</td>\n",
       "      <td>\"pretty decent airline\"   Moroni to Moheli. Tu...</td>\n",
       "    </tr>\n",
       "    <tr>\n",
       "      <th>1</th>\n",
       "      <td>AB Aviation</td>\n",
       "      <td>1.0</td>\n",
       "      <td>\"Not a good airline\"</td>\n",
       "      <td>25th June 2019</td>\n",
       "      <td>no</td>\n",
       "      <td>Moroni to Anjouan. It is a very small airline...</td>\n",
       "      <td>Solo Leisure</td>\n",
       "      <td>Economy Class</td>\n",
       "      <td>\"Not a good airline\"  Moroni to Anjouan. It is...</td>\n",
       "    </tr>\n",
       "    <tr>\n",
       "      <th>2</th>\n",
       "      <td>AB Aviation</td>\n",
       "      <td>1.0</td>\n",
       "      <td>\"flight was fortunately short\"</td>\n",
       "      <td>25th June 2019</td>\n",
       "      <td>no</td>\n",
       "      <td>Anjouan to Dzaoudzi. A very small airline an...</td>\n",
       "      <td>Solo Leisure</td>\n",
       "      <td>Economy Class</td>\n",
       "      <td>\"flight was fortunately short\"   Anjouan to Dz...</td>\n",
       "    </tr>\n",
       "    <tr>\n",
       "      <th>3</th>\n",
       "      <td>Adria Airways</td>\n",
       "      <td>1.0</td>\n",
       "      <td>\"I will never fly again with Adria\"</td>\n",
       "      <td>28th September 2019</td>\n",
       "      <td>no</td>\n",
       "      <td>Please do a favor yourself and do not fly wi...</td>\n",
       "      <td>Solo Leisure</td>\n",
       "      <td>Economy Class</td>\n",
       "      <td>\"I will never fly again with Adria\"   Please d...</td>\n",
       "    </tr>\n",
       "    <tr>\n",
       "      <th>4</th>\n",
       "      <td>Adria Airways</td>\n",
       "      <td>1.0</td>\n",
       "      <td>\"it ruined our last days of holidays\"</td>\n",
       "      <td>24th September 2019</td>\n",
       "      <td>no</td>\n",
       "      <td>Do not book a flight with this airline! My fr...</td>\n",
       "      <td>Couple Leisure</td>\n",
       "      <td>Economy Class</td>\n",
       "      <td>\"it ruined our last days of holidays\"  Do not ...</td>\n",
       "    </tr>\n",
       "  </tbody>\n",
       "</table>\n",
       "</div>"
      ],
      "text/plain": [
       "    Airline Name  Overall_Rating                           Review_Title  \\\n",
       "0    AB Aviation             9.0                \"pretty decent airline\"   \n",
       "1    AB Aviation             1.0                   \"Not a good airline\"   \n",
       "2    AB Aviation             1.0         \"flight was fortunately short\"   \n",
       "3  Adria Airways             1.0    \"I will never fly again with Adria\"   \n",
       "4  Adria Airways             1.0  \"it ruined our last days of holidays\"   \n",
       "\n",
       "           Review Date Recommended  \\\n",
       "0   11th November 2019         yes   \n",
       "1       25th June 2019          no   \n",
       "2       25th June 2019          no   \n",
       "3  28th September 2019          no   \n",
       "4  24th September 2019          no   \n",
       "\n",
       "                                              Review Type Of Traveller  \\\n",
       "0    Moroni to Moheli. Turned out to be a pretty ...      Solo Leisure   \n",
       "1   Moroni to Anjouan. It is a very small airline...      Solo Leisure   \n",
       "2    Anjouan to Dzaoudzi. A very small airline an...      Solo Leisure   \n",
       "3    Please do a favor yourself and do not fly wi...      Solo Leisure   \n",
       "4   Do not book a flight with this airline! My fr...    Couple Leisure   \n",
       "\n",
       "       Seat Type                                        Full_Review  \n",
       "0  Economy Class  \"pretty decent airline\"   Moroni to Moheli. Tu...  \n",
       "1  Economy Class  \"Not a good airline\"  Moroni to Anjouan. It is...  \n",
       "2  Economy Class  \"flight was fortunately short\"   Anjouan to Dz...  \n",
       "3  Economy Class  \"I will never fly again with Adria\"   Please d...  \n",
       "4  Economy Class  \"it ruined our last days of holidays\"  Do not ...  "
      ]
     },
     "execution_count": 12,
     "metadata": {},
     "output_type": "execute_result"
    }
   ],
   "source": [
    "#Display first few rows of the df_cleaned\n",
    "df_cleaned.head()"
   ]
  },
  {
   "cell_type": "code",
   "execution_count": 13,
   "metadata": {},
   "outputs": [
    {
     "name": "stdout",
     "output_type": "stream",
     "text": [
      "<class 'pandas.core.frame.DataFrame'>\n",
      "Index: 22329 entries, 0 to 23170\n",
      "Data columns (total 9 columns):\n",
      " #   Column             Non-Null Count  Dtype  \n",
      "---  ------             --------------  -----  \n",
      " 0   Airline Name       22329 non-null  object \n",
      " 1   Overall_Rating     22329 non-null  float64\n",
      " 2   Review_Title       22329 non-null  object \n",
      " 3   Review Date        22329 non-null  object \n",
      " 4   Recommended        22329 non-null  int64  \n",
      " 5   Review             22329 non-null  object \n",
      " 6   Type Of Traveller  22329 non-null  object \n",
      " 7   Seat Type          22329 non-null  object \n",
      " 8   Full_Review        22329 non-null  object \n",
      "dtypes: float64(1), int64(1), object(7)\n",
      "memory usage: 1.7+ MB\n"
     ]
    },
    {
     "name": "stderr",
     "output_type": "stream",
     "text": [
      "/var/folders/qn/jfqcll4s6yz52tywvfkhzr440000gn/T/ipykernel_36280/1822501394.py:2: SettingWithCopyWarning: \n",
      "A value is trying to be set on a copy of a slice from a DataFrame.\n",
      "Try using .loc[row_indexer,col_indexer] = value instead\n",
      "\n",
      "See the caveats in the documentation: https://pandas.pydata.org/pandas-docs/stable/user_guide/indexing.html#returning-a-view-versus-a-copy\n",
      "  df_cleaned['Recommended'] = df_cleaned['Recommended'].apply(lambda x: 1 if x.lower() == 'yes' else 0)\n",
      "/var/folders/qn/jfqcll4s6yz52tywvfkhzr440000gn/T/ipykernel_36280/1822501394.py:5: FutureWarning: A value is trying to be set on a copy of a DataFrame or Series through chained assignment using an inplace method.\n",
      "The behavior will change in pandas 3.0. This inplace method will never work because the intermediate object on which we are setting values always behaves as a copy.\n",
      "\n",
      "For example, when doing 'df[col].method(value, inplace=True)', try using 'df.method({col: value}, inplace=True)' or df[col] = df[col].method(value) instead, to perform the operation inplace on the original object.\n",
      "\n",
      "\n",
      "  df_cleaned['Type Of Traveller'].fillna('Unknown', inplace=True)\n",
      "/var/folders/qn/jfqcll4s6yz52tywvfkhzr440000gn/T/ipykernel_36280/1822501394.py:5: SettingWithCopyWarning: \n",
      "A value is trying to be set on a copy of a slice from a DataFrame\n",
      "\n",
      "See the caveats in the documentation: https://pandas.pydata.org/pandas-docs/stable/user_guide/indexing.html#returning-a-view-versus-a-copy\n",
      "  df_cleaned['Type Of Traveller'].fillna('Unknown', inplace=True)\n",
      "/var/folders/qn/jfqcll4s6yz52tywvfkhzr440000gn/T/ipykernel_36280/1822501394.py:6: FutureWarning: A value is trying to be set on a copy of a DataFrame or Series through chained assignment using an inplace method.\n",
      "The behavior will change in pandas 3.0. This inplace method will never work because the intermediate object on which we are setting values always behaves as a copy.\n",
      "\n",
      "For example, when doing 'df[col].method(value, inplace=True)', try using 'df.method({col: value}, inplace=True)' or df[col] = df[col].method(value) instead, to perform the operation inplace on the original object.\n",
      "\n",
      "\n",
      "  df_cleaned['Seat Type'].fillna('Unknown', inplace=True)\n",
      "/var/folders/qn/jfqcll4s6yz52tywvfkhzr440000gn/T/ipykernel_36280/1822501394.py:6: SettingWithCopyWarning: \n",
      "A value is trying to be set on a copy of a slice from a DataFrame\n",
      "\n",
      "See the caveats in the documentation: https://pandas.pydata.org/pandas-docs/stable/user_guide/indexing.html#returning-a-view-versus-a-copy\n",
      "  df_cleaned['Seat Type'].fillna('Unknown', inplace=True)\n"
     ]
    },
    {
     "data": {
      "text/plain": [
       "(None,\n",
       "     Airline Name  Overall_Rating                           Review_Title  \\\n",
       " 0    AB Aviation             9.0                \"pretty decent airline\"   \n",
       " 1    AB Aviation             1.0                   \"Not a good airline\"   \n",
       " 2    AB Aviation             1.0         \"flight was fortunately short\"   \n",
       " 3  Adria Airways             1.0    \"I will never fly again with Adria\"   \n",
       " 4  Adria Airways             1.0  \"it ruined our last days of holidays\"   \n",
       " \n",
       "            Review Date  Recommended  \\\n",
       " 0   11th November 2019            1   \n",
       " 1       25th June 2019            0   \n",
       " 2       25th June 2019            0   \n",
       " 3  28th September 2019            0   \n",
       " 4  24th September 2019            0   \n",
       " \n",
       "                                               Review Type Of Traveller  \\\n",
       " 0    Moroni to Moheli. Turned out to be a pretty ...      Solo Leisure   \n",
       " 1   Moroni to Anjouan. It is a very small airline...      Solo Leisure   \n",
       " 2    Anjouan to Dzaoudzi. A very small airline an...      Solo Leisure   \n",
       " 3    Please do a favor yourself and do not fly wi...      Solo Leisure   \n",
       " 4   Do not book a flight with this airline! My fr...    Couple Leisure   \n",
       " \n",
       "        Seat Type                                        Full_Review  \n",
       " 0  Economy Class  \"pretty decent airline\"   Moroni to Moheli. Tu...  \n",
       " 1  Economy Class  \"Not a good airline\"  Moroni to Anjouan. It is...  \n",
       " 2  Economy Class  \"flight was fortunately short\"   Anjouan to Dz...  \n",
       " 3  Economy Class  \"I will never fly again with Adria\"   Please d...  \n",
       " 4  Economy Class  \"it ruined our last days of holidays\"  Do not ...  )"
      ]
     },
     "execution_count": 13,
     "metadata": {},
     "output_type": "execute_result"
    }
   ],
   "source": [
    "# Label encode 'Recommended' as binary values\n",
    "df_cleaned['Recommended'] = df_cleaned['Recommended'].apply(lambda x: 1 if x.lower() == 'yes' else 0)\n",
    "\n",
    "# Handle missing values in 'Type Of Traveller' and 'Seat Type' by filling with 'Unknown'\n",
    "df_cleaned['Type Of Traveller'].fillna('Unknown', inplace=True)\n",
    "df_cleaned['Seat Type'].fillna('Unknown', inplace=True)\n",
    "\n",
    "# Display the final cleaned dataframe information and first few rows\n",
    "df_cleaned_info_final = df_cleaned.info()\n",
    "df_cleaned_head_final = df_cleaned.head()\n",
    "\n",
    "df_cleaned_info_final, df_cleaned_head_final\n"
   ]
  },
  {
   "cell_type": "code",
   "execution_count": 14,
   "metadata": {},
   "outputs": [],
   "source": [
    "\n",
    "#remove duplicates \n",
    "df_cleaned = df_cleaned.drop_duplicates()\n",
    "\n",
    "\n"
   ]
  },
  {
   "cell_type": "markdown",
   "metadata": {},
   "source": [
    "### Exploratory Data Analysis"
   ]
  },
  {
   "cell_type": "markdown",
   "metadata": {},
   "source": [
    "#### Statistical Summary"
   ]
  },
  {
   "cell_type": "code",
   "execution_count": 15,
   "metadata": {},
   "outputs": [
    {
     "data": {
      "text/plain": [
       "Airline Name         0\n",
       "Overall_Rating       0\n",
       "Review_Title         0\n",
       "Review Date          0\n",
       "Recommended          0\n",
       "Review               0\n",
       "Type Of Traveller    0\n",
       "Seat Type            0\n",
       "Full_Review          0\n",
       "dtype: int64"
      ]
     },
     "execution_count": 15,
     "metadata": {},
     "output_type": "execute_result"
    }
   ],
   "source": [
    "df_cleaned.shape\n",
    "df_cleaned.isnull().sum()"
   ]
  },
  {
   "cell_type": "markdown",
   "metadata": {},
   "source": [
    "#### Class Distribution"
   ]
  },
  {
   "cell_type": "code",
   "execution_count": 16,
   "metadata": {},
   "outputs": [
    {
     "data": {
      "image/png": "[encoded data removed]",
      "text/plain": [
       "<Figure size 640x480 with 1 Axes>"
      ]
     },
     "metadata": {},
     "output_type": "display_data"
    }
   ],
   "source": [
    "# Plotting the distribution of the \"Overall Rating\" dependent variable\n",
    "sns.countplot(x='Overall_Rating', data=df_cleaned)\n",
    "plt.title('Class Distribution')\n",
    "plt.show()"
   ]
  },
  {
   "cell_type": "code",
   "execution_count": 17,
   "metadata": {},
   "outputs": [
    {
     "name": "stdout",
     "output_type": "stream",
     "text": [
      "Overall_Rating\n",
      "1.0    51.954982\n",
      "2.0    10.286073\n",
      "9.0     7.927540\n",
      "8.0     7.873733\n",
      "3.0     6.066720\n",
      "7.0     5.344812\n",
      "4.0     3.824769\n",
      "5.0     3.703704\n",
      "6.0     3.017667\n",
      "Name: proportion, dtype: float64\n"
     ]
    }
   ],
   "source": [
    "# Get percentage distribution of \"Overall Rating\"\n",
    "class_distribution_percentage = df_cleaned['Overall_Rating'].value_counts(normalize=True) * 100\n",
    "\n",
    "print(class_distribution_percentage)"
   ]
  },
  {
   "cell_type": "markdown",
   "metadata": {},
   "source": [
    "#### Distribution of Features"
   ]
  },
  {
   "cell_type": "code",
   "execution_count": null,
   "metadata": {},
   "outputs": [],
   "source": []
  },
  {
   "cell_type": "markdown",
   "metadata": {},
   "source": [
    "#### Text Preprocessing"
   ]
  },
  {
   "cell_type": "code",
   "execution_count": 18,
   "metadata": {},
   "outputs": [
    {
     "name": "stderr",
     "output_type": "stream",
     "text": [
      "[nltk_data] Downloading package stopwords to\n",
      "[nltk_data]     /Users/ritikabajpai/nltk_data...\n",
      "[nltk_data]   Package stopwords is already up-to-date!\n"
     ]
    },
    {
     "data": {
      "text/plain": [
       "0    pretty decent airline moroni moheli turned pre...\n",
       "1    good airline moroni anjouan small airline tick...\n",
       "2    flight fortunately short anjouan dzaoudzi smal...\n",
       "3    never fly adria please favor fly adria route m...\n",
       "4    ruined last days holidays book flight airline ...\n",
       "Name: Cleaned_Review, dtype: object"
      ]
     },
     "execution_count": 18,
     "metadata": {},
     "output_type": "execute_result"
    }
   ],
   "source": [
    "# Text preprocessing\n",
    "import re\n",
    "import nltk\n",
    "from nltk.corpus import stopwords\n",
    "nltk.download('stopwords')\n",
    "\n",
    "stop_words = set(stopwords.words('english'))\n",
    "\n",
    "# Function to clean text for Full \"Review\" column of df_cleaned\n",
    "def preprocess_text(text):\n",
    "    text = re.sub(r'[^\\w\\s]', '', text)  # Remove punctuation\n",
    "    text = text.lower()  # Convert to lowercase\n",
    "    text = ' '.join([word for word in text.split() if word not in stop_words])  # Remove stopwords\n",
    "    return text\n",
    "\n",
    "# Apply cleaning to \"Full Review\"\n",
    "df_cleaned['Cleaned_Review'] = df_cleaned['Full_Review'].apply(preprocess_text)\n",
    "df_cleaned[\"Cleaned_Review\"].head() "
   ]
  },
  {
   "cell_type": "code",
   "execution_count": 19,
   "metadata": {},
   "outputs": [
    {
     "name": "stdout",
     "output_type": "stream",
     "text": [
      "(22302, 5000)\n"
     ]
    }
   ],
   "source": [
    "#Convert Text to Sequences\n",
    "\n",
    "#for an RNN, text data needs to be converted into numerical form\n",
    "\n",
    "from sklearn.feature_extraction.text import TfidfVectorizer\n",
    "\n",
    "# Initialize the TfidfVectorizer with a limit on vocabulary size\n",
    "max_words = 5000\n",
    "vectorizer = TfidfVectorizer(max_features=max_words)\n",
    "\n",
    "# Fit and transform the text data into numerical sequences\n",
    "sequences = vectorizer.fit_transform(df_cleaned['Cleaned_Review'])\n",
    "\n",
    "# Convert to array (if needed)\n",
    "sequences_array = sequences.toarray()\n",
    "\n",
    "# Check the shape of the output\n",
    "print(sequences_array.shape)\n",
    "\n"
   ]
  },
  {
   "cell_type": "markdown",
   "metadata": {},
   "source": [
    "#### Visualizing the Distribution of Text Length"
   ]
  },
  {
   "cell_type": "code",
   "execution_count": 20,
   "metadata": {},
   "outputs": [
    {
     "data": {
      "text/plain": [
       "<Axes: >"
      ]
     },
     "execution_count": 20,
     "metadata": {},
     "output_type": "execute_result"
    },
    {
     "data": {
      "image/png": "[encoded data removed]",
      "text/plain": [
       "<Figure size 640x480 with 1 Axes>"
      ]
     },
     "metadata": {},
     "output_type": "display_data"
    }
   ],
   "source": [
    "df_cleaned['review_length'] = df_cleaned['Cleaned_Review'].apply(lambda x: len(x.split()))\n",
    "df_cleaned['review_length'].hist(bins=50)\n"
   ]
  },
  {
   "cell_type": "code",
   "execution_count": 21,
   "metadata": {},
   "outputs": [
    {
     "name": "stderr",
     "output_type": "stream",
     "text": [
      "/Users/ritikabajpai/anaconda3/lib/python3.11/site-packages/seaborn/_oldcore.py:1119: FutureWarning: use_inf_as_na option is deprecated and will be removed in a future version. Convert inf values to NaN before operating instead.\n",
      "  with pd.option_context('mode.use_inf_as_na', True):\n"
     ]
    },
    {
     "data": {
      "text/plain": [
       "<Axes: xlabel='review_length', ylabel='Count'>"
      ]
     },
     "execution_count": 21,
     "metadata": {},
     "output_type": "execute_result"
    },
    {
     "data": {
      "image/png": "[encoded data removed]",
      "text/plain": [
       "<Figure size 640x480 with 1 Axes>"
      ]
     },
     "metadata": {},
     "output_type": "display_data"
    }
   ],
   "source": [
    "import seaborn as sns\n",
    "sns.histplot(df_cleaned['review_length'], kde=True)"
   ]
  },
  {
   "cell_type": "markdown",
   "metadata": {},
   "source": [
    "#### Most Common Words\n",
    "\n"
   ]
  },
  {
   "cell_type": "code",
   "execution_count": 22,
   "metadata": {},
   "outputs": [
    {
     "name": "stdout",
     "output_type": "stream",
     "text": [
      "[('flight', 42411), ('service', 14402), ('airline', 14025), ('time', 12269), ('customer', 9620), ('us', 9433), ('would', 8847), ('staff', 8789), ('one', 8441), ('airport', 8287), ('hours', 7872), ('flights', 7535), ('get', 7485), ('air', 7458), ('good', 7296), ('crew', 7114), ('airlines', 7095), ('plane', 7017), ('seats', 6981), ('experience', 6632)]\n"
     ]
    }
   ],
   "source": [
    "from collections import Counter\n",
    "\n",
    "all_words = ' '.join([text for text in df_cleaned['Cleaned_Review']])\n",
    "word_counts = Counter(all_words.split())\n",
    "common_words = word_counts.most_common(20)\n",
    "\n",
    "print(common_words)\n"
   ]
  },
  {
   "cell_type": "markdown",
   "metadata": {},
   "source": [
    "#### Word Cloud Analysis\n"
   ]
  },
  {
   "cell_type": "code",
   "execution_count": null,
   "metadata": {},
   "outputs": [
    {
     "ename": "ModuleNotFoundError",
     "evalue": "No module named 'wordcloud'",
     "output_type": "error",
     "traceback": [
      "\u001b[0;31m---------------------------------------------------------------------------\u001b[0m",
      "\u001b[0;31mModuleNotFoundError\u001b[0m                       Traceback (most recent call last)",
      "Cell \u001b[0;32mIn[9], line 1\u001b[0m\n\u001b[0;32m----> 1\u001b[0m \u001b[39mfrom\u001b[39;00m \u001b[39mwordcloud\u001b[39;00m \u001b[39mimport\u001b[39;00m WordCloud\n\u001b[1;32m      3\u001b[0m \u001b[39m# Generating word cloud from cleaned reviews\u001b[39;00m\n\u001b[1;32m      4\u001b[0m text \u001b[39m=\u001b[39m \u001b[39m'\u001b[39m\u001b[39m \u001b[39m\u001b[39m'\u001b[39m\u001b[39m.\u001b[39mjoin(df_cleaned[\u001b[39m'\u001b[39m\u001b[39mCleaned_Review\u001b[39m\u001b[39m'\u001b[39m]\u001b[39m.\u001b[39mtolist())\n",
      "\u001b[0;31mModuleNotFoundError\u001b[0m: No module named 'wordcloud'"
     ]
    }
   ],
   "source": [
    "from wordcloud import WordCloud\n",
    "\n",
    "# Generating word cloud from cleaned reviews\n",
    "text = ' '.join(df_cleaned['Cleaned_Review'].tolist())\n",
    "wordcloud = WordCloud(width=800, height=400, max_words=100).generate(text)\n",
    "\n",
    "# Plot the word cloud\n",
    "plt.figure(figsize=(10, 5))\n",
    "plt.imshow(wordcloud, interpolation='bilinear')\n",
    "plt.axis('off')\n",
    "plt.show()"
   ]
  },
  {
   "cell_type": "markdown",
   "metadata": {},
   "source": [
    "#### Bigram Analysis"
   ]
  },
  {
   "cell_type": "code",
   "execution_count": null,
   "metadata": {},
   "outputs": [
    {
     "name": "stdout",
     "output_type": "stream",
     "text": [
      "customer service          3942\n",
      "cabin crew                2365\n",
      "business class            2224\n",
      "flight delayed            1568\n",
      "return flight             1315\n",
      "flight attendants         1263\n",
      "even though               1014\n",
      "connecting flight         1002\n",
      "flight cancelled           932\n",
      "never fly                  932\n",
      "ground staff               913\n",
      "worst airline              901\n",
      "first time                 882\n",
      "next day                   879\n",
      "hour flight                852\n",
      "flight time                806\n",
      "boarding pass              791\n",
      "leg room                   778\n",
      "inflight entertainment     751\n",
      "dtype: int64\n"
     ]
    }
   ],
   "source": [
    "from sklearn.feature_extraction.text import CountVectorizer\n",
    "\n",
    "# Create a count vectorizer for most common bigrams(Phrases of 2 words)\n",
    "vectorizer = CountVectorizer(ngram_range=(2, 2), max_features=19)\n",
    "\n",
    "# Fit and transform the cleaned review data\n",
    "bigrams = vectorizer.fit_transform(df_cleaned['Cleaned_Review'])\n",
    "\n",
    "# Geting the bigram frequencies\n",
    "bigram_frequencies = pd.DataFrame(bigrams.toarray(), columns=vectorizer.get_feature_names_out()).sum().sort_values(ascending=False)\n",
    "\n",
    "print(bigram_frequencies)"
   ]
  },
  {
   "cell_type": "markdown",
   "metadata": {},
   "source": [
    "#### Finding the Sentiment Polarity Distribution"
   ]
  },
  {
   "cell_type": "code",
   "execution_count": null,
   "metadata": {},
   "outputs": [
    {
     "name": "stdout",
     "output_type": "stream",
     "text": [
      "Collecting textblob\n",
      "  Downloading textblob-0.18.0.post0-py3-none-any.whl (626 kB)\n",
      "Collecting nltk>=3.8\n",
      "  Downloading nltk-3.9.1-py3-none-any.whl (1.5 MB)\n",
      "Requirement already satisfied: tqdm in c:\\users\\johnt\\coding\\anaconda\\lib\\site-packages (from nltk>=3.8->textblob) (4.62.3)\n",
      "Requirement already satisfied: joblib in c:\\users\\johnt\\coding\\anaconda\\lib\\site-packages (from nltk>=3.8->textblob) (1.3.2)\n",
      "Requirement already satisfied: regex>=2021.8.3 in c:\\users\\johnt\\coding\\anaconda\\lib\\site-packages (from nltk>=3.8->textblob) (2021.8.3)\n",
      "Requirement already satisfied: click in c:\\users\\johnt\\coding\\anaconda\\lib\\site-packages (from nltk>=3.8->textblob) (8.0.3)\n",
      "Requirement already satisfied: colorama in c:\\users\\johnt\\coding\\anaconda\\lib\\site-packages (from click->nltk>=3.8->textblob) (0.4.4)\n",
      "Installing collected packages: nltk, textblob\n",
      "  Attempting uninstall: nltk\n",
      "    Found existing installation: nltk 3.6.5\n",
      "    Uninstalling nltk-3.6.5:\n",
      "      Successfully uninstalled nltk-3.6.5\n",
      "Successfully installed nltk-3.9.1 textblob-0.18.0.post0\n"
     ]
    },
    {
     "data": {
      "image/png": "[encoded data removed]",
      "text/plain": [
       "<Figure size 432x288 with 1 Axes>"
      ]
     },
     "metadata": {
      "needs_background": "light"
     },
     "output_type": "display_data"
    }
   ],
   "source": [
    "%pip install textblob\n",
    "from textblob import TextBlob\n",
    "\n",
    "# Calculate polarity\n",
    "# Take note that this current polarity is calculated using the TextBlob library\n",
    "\n",
    "df_cleaned['polarity'] = df_cleaned['Cleaned_Review'].apply(lambda x: TextBlob(x).sentiment.polarity)\n",
    "\n",
    "# Plot the polarity distribution\n",
    "sns.histplot(df_cleaned['polarity'], bins=30)\n",
    "plt.title('Sentiment Polarity Distribution')\n",
    "plt.show()"
   ]
  },
  {
   "cell_type": "code",
   "execution_count": null,
   "metadata": {},
   "outputs": [
    {
     "data": {
      "text/html": [
       "<div>\n",
       "<style scoped>\n",
       "    .dataframe tbody tr th:only-of-type {\n",
       "        vertical-align: middle;\n",
       "    }\n",
       "\n",
       "    .dataframe tbody tr th {\n",
       "        vertical-align: top;\n",
       "    }\n",
       "\n",
       "    .dataframe thead th {\n",
       "        text-align: right;\n",
       "    }\n",
       "</style>\n",
       "<table border=\"1\" class=\"dataframe\">\n",
       "  <thead>\n",
       "    <tr style=\"text-align: right;\">\n",
       "      <th></th>\n",
       "      <th>Airline Name</th>\n",
       "      <th>Overall_Rating</th>\n",
       "      <th>Review_Title</th>\n",
       "      <th>Review Date</th>\n",
       "      <th>Recommended</th>\n",
       "      <th>Review</th>\n",
       "      <th>Type Of Traveller</th>\n",
       "      <th>Seat Type</th>\n",
       "      <th>Cleaned_Review</th>\n",
       "      <th>polarity</th>\n",
       "    </tr>\n",
       "  </thead>\n",
       "  <tbody>\n",
       "    <tr>\n",
       "      <th>23166</th>\n",
       "      <td>ZIPAIR</td>\n",
       "      <td>1.0</td>\n",
       "      <td>\"customer service is terrible\"</td>\n",
       "      <td>5th July 2022</td>\n",
       "      <td>0</td>\n",
       "      <td>Bangkok to Tokyo. I’ve flown many low cost ai...</td>\n",
       "      <td>Couple Leisure</td>\n",
       "      <td>Economy Class</td>\n",
       "      <td>bangkok tokyo ive flown many low cost airlines...</td>\n",
       "      <td>-0.063889</td>\n",
       "    </tr>\n",
       "    <tr>\n",
       "      <th>23167</th>\n",
       "      <td>ZIPAIR</td>\n",
       "      <td>1.0</td>\n",
       "      <td>\"Avoid at all costs\"</td>\n",
       "      <td>1st June 2022</td>\n",
       "      <td>0</td>\n",
       "      <td>Avoid at all costs. I booked flights to go f...</td>\n",
       "      <td>Solo Leisure</td>\n",
       "      <td>Economy Class</td>\n",
       "      <td>avoid costs booked flights go singapore tokyo ...</td>\n",
       "      <td>0.136364</td>\n",
       "    </tr>\n",
       "    <tr>\n",
       "      <th>23168</th>\n",
       "      <td>ZIPAIR</td>\n",
       "      <td>3.0</td>\n",
       "      <td>\"Will not recommend to anyone\"</td>\n",
       "      <td>31st May 2022</td>\n",
       "      <td>0</td>\n",
       "      <td>Flight was leaving at 23.15 and after an hou...</td>\n",
       "      <td>Business</td>\n",
       "      <td>Economy Class</td>\n",
       "      <td>flight leaving 2315 hour half flying get back ...</td>\n",
       "      <td>0.028680</td>\n",
       "    </tr>\n",
       "    <tr>\n",
       "      <th>23169</th>\n",
       "      <td>ZIPAIR</td>\n",
       "      <td>6.0</td>\n",
       "      <td>\"It was immaculately clean\"</td>\n",
       "      <td>23rd May 2022</td>\n",
       "      <td>1</td>\n",
       "      <td>Zipair is JAL’s budget airline. They don’t ha...</td>\n",
       "      <td>Business</td>\n",
       "      <td>Business Class</td>\n",
       "      <td>zipair jals budget airline dont classes travel...</td>\n",
       "      <td>0.216805</td>\n",
       "    </tr>\n",
       "    <tr>\n",
       "      <th>23170</th>\n",
       "      <td>ZIPAIR</td>\n",
       "      <td>1.0</td>\n",
       "      <td>\"lost all of our money with no refund\"</td>\n",
       "      <td>20th May 2022</td>\n",
       "      <td>0</td>\n",
       "      <td>They lied about connection in Narita and we ...</td>\n",
       "      <td>Solo Leisure</td>\n",
       "      <td>Economy Class</td>\n",
       "      <td>lied connection narita lost money refund agree...</td>\n",
       "      <td>0.000000</td>\n",
       "    </tr>\n",
       "  </tbody>\n",
       "</table>\n",
       "</div>"
      ],
      "text/plain": [
       "      Airline Name  Overall_Rating                            Review_Title  \\\n",
       "23166       ZIPAIR             1.0          \"customer service is terrible\"   \n",
       "23167       ZIPAIR             1.0                    \"Avoid at all costs\"   \n",
       "23168       ZIPAIR             3.0          \"Will not recommend to anyone\"   \n",
       "23169       ZIPAIR             6.0             \"It was immaculately clean\"   \n",
       "23170       ZIPAIR             1.0  \"lost all of our money with no refund\"   \n",
       "\n",
       "         Review Date  Recommended  \\\n",
       "23166  5th July 2022            0   \n",
       "23167  1st June 2022            0   \n",
       "23168  31st May 2022            0   \n",
       "23169  23rd May 2022            1   \n",
       "23170  20th May 2022            0   \n",
       "\n",
       "                                                  Review Type Of Traveller  \\\n",
       "23166   Bangkok to Tokyo. I’ve flown many low cost ai...    Couple Leisure   \n",
       "23167    Avoid at all costs. I booked flights to go f...      Solo Leisure   \n",
       "23168    Flight was leaving at 23.15 and after an hou...          Business   \n",
       "23169   Zipair is JAL’s budget airline. They don’t ha...          Business   \n",
       "23170    They lied about connection in Narita and we ...      Solo Leisure   \n",
       "\n",
       "            Seat Type                                     Cleaned_Review  \\\n",
       "23166   Economy Class  bangkok tokyo ive flown many low cost airlines...   \n",
       "23167   Economy Class  avoid costs booked flights go singapore tokyo ...   \n",
       "23168   Economy Class  flight leaving 2315 hour half flying get back ...   \n",
       "23169  Business Class  zipair jals budget airline dont classes travel...   \n",
       "23170   Economy Class  lied connection narita lost money refund agree...   \n",
       "\n",
       "       polarity  \n",
       "23166 -0.063889  \n",
       "23167  0.136364  \n",
       "23168  0.028680  \n",
       "23169  0.216805  \n",
       "23170  0.000000  "
      ]
     },
     "execution_count": 50,
     "metadata": {},
     "output_type": "execute_result"
    }
   ],
   "source": [
    "# After additional columns added to df_cleaned, this is how it looks like now\n",
    "df_cleaned.tail()"
   ]
  },
  {
   "cell_type": "markdown",
   "metadata": {},
   "source": [
    "#### Correlation Matrix\n"
   ]
  },
  {
   "cell_type": "code",
   "execution_count": null,
   "metadata": {},
   "outputs": [
    {
     "data": {
      "text/plain": [
       "<AxesSubplot:>"
      ]
     },
     "execution_count": 40,
     "metadata": {},
     "output_type": "execute_result"
    },
    {
     "data": {
      "image/png": "[encoded data removed]",
      "text/plain": [
       "<Figure size 432x288 with 2 Axes>"
      ]
     },
     "metadata": {
      "needs_background": "light"
     },
     "output_type": "display_data"
    }
   ],
   "source": [
    "# With only 1 numerical independent variable, the correlation matrix is as follows\n",
    "sns.heatmap(df_cleaned.corr(), annot=True)"
   ]
  },
  {
   "cell_type": "markdown",
   "metadata": {},
   "source": [
    "#### Pairplot of Features\n"
   ]
  },
  {
   "cell_type": "code",
   "execution_count": null,
   "metadata": {},
   "outputs": [],
   "source": []
  }
 ],
 "metadata": {
  "kernelspec": {
   "display_name": "base",
   "language": "python",
   "name": "python3"
  },
  "language_info": {
   "codemirror_mode": {
    "name": "ipython",
    "version": 3
   },
   "file_extension": ".py",
   "mimetype": "text/x-python",
   "name": "python",
   "nbconvert_exporter": "python",
   "pygments_lexer": "ipython3",
   "version": "3.11.4"
  }
 },
 "nbformat": 4,
 "nbformat_minor": 2
}
